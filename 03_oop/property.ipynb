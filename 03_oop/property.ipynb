{
 "cells": [
  {
   "cell_type": "code",
   "execution_count": 10,
   "metadata": {
    "collapsed": true
   },
   "outputs": [],
   "source": [
    "# property : 객체를 통해 호출을 할 때 마치 인스턴스 멤버인것 처럼 호출\n",
    "#            하지만 실제로는 인스턴스 메소드가 호출이 됩니다. \n",
    "# 인스턴스 생성시 뭔가 제한을 걸어두려고 할 때 유용하게 사용된다. \n",
    "\n",
    "class Person:\n",
    "    def __init__(self, money):\n",
    "        self.money = money # 여기서의 money 는 property money\n",
    "    \n",
    "    # getter \n",
    "    @property\n",
    "    def money(self):\n",
    "        print('getter called')\n",
    "        return self.__money \n",
    "    \n",
    "    @money.setter\n",
    "    def money(self, money):\n",
    "        print('setter called')\n",
    "        if money < 0:\n",
    "            self.__money = 0\n",
    "        else:\n",
    "            self.__money = money\n",
    "        \n",
    "    def __str__(self):\n",
    "        return \"I have {} won\".format(self.__money)"
   ]
  },
  {
   "cell_type": "code",
   "execution_count": 16,
   "metadata": {
    "collapsed": false
   },
   "outputs": [
    {
     "name": "stdout",
     "output_type": "stream",
     "text": [
      "setter called\n",
      "getter called\n"
     ]
    },
    {
     "data": {
      "text/plain": [
       "3000"
      ]
     },
     "execution_count": 16,
     "metadata": {},
     "output_type": "execute_result"
    }
   ],
   "source": [
    "p1 = Person(3000)\n",
    "p1.money"
   ]
  },
  {
   "cell_type": "code",
   "execution_count": 14,
   "metadata": {
    "collapsed": false
   },
   "outputs": [
    {
     "name": "stdout",
     "output_type": "stream",
     "text": [
      "I have 3000 won\n"
     ]
    }
   ],
   "source": [
    "print(p1)"
   ]
  },
  {
   "cell_type": "code",
   "execution_count": null,
   "metadata": {
    "collapsed": false
   },
   "outputs": [],
   "source": [
    "# 프로퍼티를 쓴다는건 @property, @이름.setter 쌍으로 써줘야함"
   ]
  },
  {
   "cell_type": "code",
   "execution_count": null,
   "metadata": {
    "collapsed": true
   },
   "outputs": [],
   "source": []
  }
 ],
 "metadata": {
  "kernelspec": {
   "display_name": "Python 3",
   "language": "python",
   "name": "python3"
  },
  "language_info": {
   "codemirror_mode": {
    "name": "ipython",
    "version": 3
   },
   "file_extension": ".py",
   "mimetype": "text/x-python",
   "name": "python",
   "nbconvert_exporter": "python",
   "pygments_lexer": "ipython3",
   "version": "3.6.0"
  }
 },
 "nbformat": 4,
 "nbformat_minor": 2
}
