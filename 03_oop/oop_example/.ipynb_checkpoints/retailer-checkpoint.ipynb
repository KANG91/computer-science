{
 "cells": [
  {
   "cell_type": "code",
   "execution_count": 25,
   "metadata": {
    "collapsed": false,
    "deletable": true,
    "editable": true
   },
   "outputs": [],
   "source": [
    "from person import Person\n",
    "\n",
    "# Retailer 클래스\n",
    "class Retailer(Person):\n",
    "    price = 1000 # 클래스 멤버 : 인스턴스가 모두 공유하는 데이터 \n",
    "    \n",
    "    def __init__(self, name, age, money, product): # 초기화 함수 \n",
    "        super().__init__(name, age, money)\n",
    "        self.product = product \n",
    "        \n",
    "    def sell(self, other, how_many):\n",
    "        total = self.price * how_many\n",
    "        \n",
    "        self.product -= how_many\n",
    "        other.product += how_many\n",
    "        \n",
    "        other.give_money(self, total)\n",
    "        \n",
    "    def __str__(self):\n",
    "        return super().__str__() + '''\n",
    "I am a retailer\n",
    "I have {} products'''.format(self.product)\n",
    "        \n",
    "\n",
    "# 테스트코드\n",
    "if __name__ == '__main__' :\n",
    "    from buyer import Buyer \n",
    "    \n",
    "    r1 = Retailer('yang', 20, 5000, 20)\n",
    "    b1 = Buyer('kim', 13, 10000, 0)\n",
    "    print(r1)\n",
    "    print(b1)\n",
    "    r1.sell(b1, 3)\n",
    "    print(r1)\n",
    "    print(b1)"
   ]
  },
  {
   "cell_type": "code",
   "execution_count": null,
   "metadata": {
    "collapsed": true
   },
   "outputs": [],
   "source": []
  }
 ],
 "metadata": {
  "kernelspec": {
   "display_name": "Python 3",
   "language": "python",
   "name": "python3"
  },
  "language_info": {
   "codemirror_mode": {
    "name": "ipython",
    "version": 3
   },
   "file_extension": ".py",
   "mimetype": "text/x-python",
   "name": "python",
   "nbconvert_exporter": "python",
   "pygments_lexer": "ipython3",
   "version": "3.6.0"
  }
 },
 "nbformat": 4,
 "nbformat_minor": 2
}
