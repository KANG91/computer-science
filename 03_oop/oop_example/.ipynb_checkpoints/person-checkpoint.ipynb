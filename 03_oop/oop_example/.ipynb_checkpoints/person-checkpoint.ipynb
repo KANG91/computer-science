{
 "cells": [
  {
   "cell_type": "code",
   "execution_count": 3,
   "metadata": {
    "collapsed": false,
    "deletable": true,
    "editable": true
   },
   "outputs": [
    {
     "name": "stdout",
     "output_type": "stream",
     "text": [
      "\n",
      "My name is greg\n",
      "I am 18 years old\n",
      "I have 5000 won\n",
      "\n",
      "My name is kim\n",
      "I am 22 years old\n",
      "I have 1000 won\n",
      "\n",
      "My name is greg\n",
      "I am 18 years old\n",
      "I have 4500 won\n",
      "\n",
      "My name is kim\n",
      "I am 22 years old\n",
      "I have 1500 won\n"
     ]
    }
   ],
   "source": [
    "# 공통 속성을 뽑아서 부모 클래스\n",
    "class Person:\n",
    "    def __init__(self, name, age, money):\n",
    "        self.name = name\n",
    "        self.age = age\n",
    "        self.money = money \n",
    "        \n",
    "    def give_money(self, other, how_much):\n",
    "        if self.money > how_much:\n",
    "            self.money -= how_much\n",
    "            other.money += how_much\n",
    "        else: \n",
    "            print('돈이 없어서 못줘')\n",
    "        \n",
    "    def __str__(self):\n",
    "        return '''\n",
    "My name is {}\n",
    "I am {} years old\n",
    "I have {} won'''.format(self.name, self.age, self.money)\n",
    "\n",
    "if __name__ = '__main__': \n",
    "    # 테스트를 위한 코드(클래스를 하나 만들면 반드시 테스트)\n",
    "    p1 = Person('greg', 18, 5000)\n",
    "    p2 = Person('kim', 22, 1000)\n",
    "    print(p1)\n",
    "    print(p2)\n",
    "    p1.give_money(p2, 500)\n",
    "    print(p1)\n",
    "    print(p2)"
   ]
  },
  {
   "cell_type": "code",
   "execution_count": null,
   "metadata": {
    "collapsed": true,
    "deletable": true,
    "editable": true
   },
   "outputs": [],
   "source": []
  }
 ],
 "metadata": {
  "kernelspec": {
   "display_name": "Python 3",
   "language": "python",
   "name": "python3"
  },
  "language_info": {
   "codemirror_mode": {
    "name": "ipython",
    "version": 3
   },
   "file_extension": ".py",
   "mimetype": "text/x-python",
   "name": "python",
   "nbconvert_exporter": "python",
   "pygments_lexer": "ipython3",
   "version": "3.6.0"
  }
 },
 "nbformat": 4,
 "nbformat_minor": 2
}
