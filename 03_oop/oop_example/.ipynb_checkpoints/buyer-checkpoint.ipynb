{
 "cells": [
  {
   "cell_type": "code",
   "execution_count": 2,
   "metadata": {
    "collapsed": false
   },
   "outputs": [
    {
     "name": "stdout",
     "output_type": "stream",
     "text": [
      "\n",
      "My name is siwa\n",
      "I am 18 years old\n",
      "I have 10000 won\n",
      "I am a buyer\n",
      "I have 0 products\n",
      "\n",
      "My name is sun\n",
      "I am 35 years old\n",
      "I have 2000 won\n",
      "I am a retailer\n",
      "I have 20 products\n",
      "\n",
      "My name is siwa\n",
      "I am 18 years old\n",
      "I have 7000 won\n",
      "I am a buyer\n",
      "I have 3 products\n",
      "\n",
      "My name is sun\n",
      "I am 35 years old\n",
      "I have 5000 won\n",
      "I am a retailer\n",
      "I have 17 products\n"
     ]
    }
   ],
   "source": [
    "from person import Person\n",
    "\n",
    "class Buyer(Person):\n",
    "    def __init__(self, name, age, money, product):\n",
    "        super().__init__(name, age, money)\n",
    "        self.product = product\n",
    "    \n",
    "    def buy(self, other, how_many):\n",
    "        total = other.price * how_many\n",
    "        \n",
    "        self.product += how_many\n",
    "        other.product -= how_many\n",
    "        \n",
    "        self.give_money(other, total)\n",
    "    \n",
    "    def __str__(self):\n",
    "        return super().__str__() + '''\n",
    "I am a buyer\n",
    "I have {} products'''.format(self.product)\n",
    "\n",
    "if __name__ == '__main__' :  # 테스트코드\n",
    "    from retailer import Retailer\n",
    "\n",
    "    b1 = Buyer('siwa', 18, 10000, 0)\n",
    "    r1 = Retailer('sun', 35, 2000, 20)\n",
    "    print(b1)\n",
    "    print(r1)\n",
    "    b1.buy(r1, 3)\n",
    "    print(b1)\n",
    "    print(r1)    "
   ]
  },
  {
   "cell_type": "code",
   "execution_count": null,
   "metadata": {
    "collapsed": true
   },
   "outputs": [],
   "source": []
  }
 ],
 "metadata": {
  "kernelspec": {
   "display_name": "Python 3",
   "language": "python",
   "name": "python3"
  },
  "language_info": {
   "codemirror_mode": {
    "name": "ipython",
    "version": 3
   },
   "file_extension": ".py",
   "mimetype": "text/x-python",
   "name": "python",
   "nbconvert_exporter": "python",
   "pygments_lexer": "ipython3",
   "version": "3.6.0"
  }
 },
 "nbformat": 4,
 "nbformat_minor": 2
}
