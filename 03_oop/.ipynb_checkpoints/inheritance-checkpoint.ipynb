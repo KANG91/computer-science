{
 "cells": [
  {
   "cell_type": "code",
   "execution_count": 1,
   "metadata": {
    "collapsed": true,
    "deletable": true,
    "editable": true
   },
   "outputs": [],
   "source": [
    "# 상속 = 부모 클래스의 모든 멤버와 메소드를 이어 받는다. (슈퍼-서브, 기본-파생)\n",
    "class Base:\n",
    "    def __init__(self, a, b):\n",
    "        self.a = a\n",
    "        self.b = b \n",
    "        \n",
    "    def func1(self):\n",
    "        print(\"func1 called!\")\n",
    "\n",
    "        \n",
    "class Derived(Base):\n",
    "    pass"
   ]
  },
  {
   "cell_type": "code",
   "execution_count": 2,
   "metadata": {
    "collapsed": true,
    "deletable": true,
    "editable": true
   },
   "outputs": [],
   "source": [
    "d = Derived(5, 3)"
   ]
  },
  {
   "cell_type": "code",
   "execution_count": 3,
   "metadata": {
    "collapsed": false,
    "deletable": true,
    "editable": true,
    "scrolled": false
   },
   "outputs": [
    {
     "name": "stdout",
     "output_type": "stream",
     "text": [
      "5 3\n"
     ]
    }
   ],
   "source": [
    "print(d.a, d.b)"
   ]
  },
  {
   "cell_type": "code",
   "execution_count": 35,
   "metadata": {
    "collapsed": true,
    "deletable": true,
    "editable": true
   },
   "outputs": [],
   "source": [
    "# 부모 : 자식이 모두 가지는 공통된 속성(attribute)을 모두 여기에서 정의\n",
    "\n",
    "class Computer:\n",
    "    def __init__(self, cpu, ram, hard_disk):\n",
    "        self.cpu = cpu\n",
    "        self.ram = ram\n",
    "        self.hard_disk = hard_disk\n",
    "    \n",
    "    def calculate(self):\n",
    "        print('computer calculating')\n",
    "\n",
    "    def __str__(self):\n",
    "        return 'I am a computer'\n",
    "        \n",
    "class Laptop(Computer):\n",
    "    def __init__(self, cpu, ram, hard_disk, touch='normal', cam='small'):\n",
    "        # 1. 클래스 이름으로 접근 \n",
    "        Computer.__init__(self, cpu, ram, hard_disk)\n",
    "        self.touch = touch\n",
    "        self.cam = cam\n",
    "        \n",
    "    # 정의하지 않아도 calculate() 존재 상속\n",
    "    \n",
    "    def calculate(self): # 오버라이딩  - 같은 이름의 함수가 있으면 자식의 함수가 우선\n",
    "        print('laptop calculating : a little bit slow')    \n",
    "        \n",
    "    def __str__(self):\n",
    "        return super(Laptop, self).__str__() + \"but I can move!\"\n",
    "    \n",
    "    \n",
    "class Desktop(Computer):\n",
    "    def __init__(self, cpu, ram, hard_disk, external_graphic = \"Geforce\"):\n",
    "        # 2. super()로 접근 (더 많이 쓰인다)\n",
    "        super(Desktop, self).__init__(cpu, ram, hard_disk)\n",
    "        \n",
    "    def calculate(self): # 오버라이딩 \n",
    "        print('desktop calculating : I am fast!')\n",
    "        \n",
    "        "
   ]
  },
  {
   "cell_type": "code",
   "execution_count": 38,
   "metadata": {
    "collapsed": false,
    "deletable": true,
    "editable": true
   },
   "outputs": [
    {
     "name": "stdout",
     "output_type": "stream",
     "text": [
      "I am a computerbut I can move!\n"
     ]
    }
   ],
   "source": [
    "l1 = Laptop('i5', '12G', '1T')\n",
    "print(l1)"
   ]
  },
  {
   "cell_type": "code",
   "execution_count": 39,
   "metadata": {
    "collapsed": false,
    "deletable": true,
    "editable": true
   },
   "outputs": [
    {
     "name": "stdout",
     "output_type": "stream",
     "text": [
      "laptop calculating : a little bit slow\n"
     ]
    }
   ],
   "source": [
    "l1.calculate() # 오버라이딩으로 인한 자식 함수 호출"
   ]
  },
  {
   "cell_type": "code",
   "execution_count": 40,
   "metadata": {
    "collapsed": false,
    "deletable": true,
    "editable": true
   },
   "outputs": [],
   "source": [
    "l2 = Computer('i5', '12G', '1T')"
   ]
  },
  {
   "cell_type": "code",
   "execution_count": 41,
   "metadata": {
    "collapsed": false,
    "deletable": true,
    "editable": true,
    "scrolled": true
   },
   "outputs": [
    {
     "name": "stdout",
     "output_type": "stream",
     "text": [
      "computer calculating\n"
     ]
    }
   ],
   "source": [
    "l2.calculate()"
   ]
  },
  {
   "cell_type": "code",
   "execution_count": 31,
   "metadata": {
    "collapsed": true,
    "deletable": true,
    "editable": true
   },
   "outputs": [],
   "source": [
    "super??"
   ]
  },
  {
   "cell_type": "markdown",
   "metadata": {
    "deletable": true,
    "editable": true
   },
   "source": [
    "'''\n",
    "많이 쓰는 super 사용법\n",
    "super() -> same as super(__class__, <first argument>)\n",
    "super(type, obj) -> bound super object; requires isinstance(obj, type)\n",
    "- type : 자료형 \n",
    "- obj : 생성자\n",
    "- super(Desktop, self)\n",
    "\n",
    "class는 자신의 자료형을 정의했다고 보면 됨 \n",
    "- c에서는 변수 선언시 자료형 같이 정의 \n",
    "    - int num1 = 50; (변수) \n",
    "    - class Base {}; (클래스) 별도의 자료형 선언이 없다. \n",
    "      왜냐하면 클래스는 그 자체로 새로운 자료형형을 정의했다고 볼 수 있다.\n",
    "'''"
   ]
  },
  {
   "cell_type": "markdown",
   "metadata": {
    "deletable": true,
    "editable": true
   },
   "source": [
    "파이썬에서는 a=50 하는데도 많은 메모리를 사용한다 왜냐하면 클래스를 사용하기 때문에\n",
    "(파이썬의 모든 변수는 객체이다) 파이썬에서 변수 남용하면 안되는 이유\n",
    "파이썬은 메모리 관리에 취약한 언어이다. 태생적으로 느릴 수 밖에 없다. \n",
    "- [웹 어셈블리 운동](http://vnthf.logdown.com/posts/2016/05/23/front-webassembly)\n",
    "- 크롬이 c++ 언어를 컴파일, 랜더링 해서 뿌리겠다. 웹브라우저에서 FPS가 돌아간다 \n",
    "\n",
    "- 변수 : 이름\n",
    "- 값 객체 \n",
    "c의 경우 int a = 50; 과 같이 정의하기 때문에 1바이트 메모리만 사용한다. \n"
   ]
  }
 ],
 "metadata": {
  "kernelspec": {
   "display_name": "Python 3",
   "language": "python",
   "name": "python3"
  },
  "language_info": {
   "codemirror_mode": {
    "name": "ipython",
    "version": 3
   },
   "file_extension": ".py",
   "mimetype": "text/x-python",
   "name": "python",
   "nbconvert_exporter": "python",
   "pygments_lexer": "ipython3",
   "version": "3.6.0"
  }
 },
 "nbformat": 4,
 "nbformat_minor": 2
}
