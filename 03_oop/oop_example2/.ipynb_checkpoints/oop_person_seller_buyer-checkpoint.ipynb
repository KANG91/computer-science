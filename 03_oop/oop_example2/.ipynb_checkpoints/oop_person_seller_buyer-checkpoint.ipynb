{
 "cells": [
  {
   "cell_type": "markdown",
   "metadata": {},
   "source": [
    "# Person 클래스"
   ]
  },
  {
   "cell_type": "code",
   "execution_count": 13,
   "metadata": {
    "collapsed": false,
    "scrolled": true
   },
   "outputs": [
    {
     "name": "stdout",
     "output_type": "stream",
     "text": [
      "sunshine has 4500\n",
      "monkey has 1500\n"
     ]
    }
   ],
   "source": [
    "# 공통 속성을 뽑아서 부모 클래스 Person을 정의\n",
    "# class_person.py\n",
    "\n",
    "class Person:\n",
    "    def __init__(self, name, age, money):\n",
    "        self.name = name\n",
    "        self.age = age\n",
    "        self.money = money\n",
    "        \n",
    "    def give_money(self, other, how_much):\n",
    "        if how_much <= self.money:\n",
    "            other.money += how_much\n",
    "            self.money -= how_much\n",
    "        else:\n",
    "            print('you don\\'t have enough money')\n",
    "        \n",
    "    def showMyInfo(self):\n",
    "        print('{0} has {1}'.format(self.name, self.money))\n",
    "        \n",
    "# 테스트 코드 \n",
    "# 만약 이 파일이 import 모듈이 아니라 메인함수일 때 실행\n",
    "\n",
    "if __name__ == '__main__':\n",
    "    p1 = Person('sunshine', 25, 5000)\n",
    "    p2 = Person('monkey', 21, 1000)\n",
    "    \n",
    "    p1.give_money(p2, 500)\n",
    "    \n",
    "    p1.showMyInfo()\n",
    "    p2.showMyInfo()"
   ]
  },
  {
   "cell_type": "markdown",
   "metadata": {},
   "source": [
    "# Seller 클래스"
   ]
  },
  {
   "cell_type": "code",
   "execution_count": 19,
   "metadata": {
    "collapsed": false
   },
   "outputs": [],
   "source": [
    "# class_seller.py\n",
    "\n",
    "# from class_person import Person\n",
    "\n",
    "class Seller(Person):\n",
    "    price = 1000\n",
    "    \n",
    "    def __init__(self, name, age, money, product_num):\n",
    "        super(Seller, self).__init__(name, age, money)\n",
    "        self.product_num = product_num\n",
    "        \n",
    "    def sell(self, other, how_many):\n",
    "        if self.product_num >= how_many and other.money >= self.price * how_many:\n",
    "            self.product_num -= how_many\n",
    "            other.product_num += how_many\n",
    "\n",
    "            self.money += self.price * how_many\n",
    "            other.money -= self.price * how_many     \n",
    "            \n",
    "        else:\n",
    "            print('상품이 부족하거나 돈이 부족합니다.')         \n",
    "            \n",
    "    def showMyInfo(self):\n",
    "        print(super().showMyInfo())\n",
    "        print('I\\'m seller. I have {} products'.format(self.product_num))"
   ]
  },
  {
   "cell_type": "markdown",
   "metadata": {},
   "source": [
    "# Buyer 클래스"
   ]
  },
  {
   "cell_type": "code",
   "execution_count": 16,
   "metadata": {
    "collapsed": false
   },
   "outputs": [],
   "source": [
    "# class_buyer.py\n",
    "\n",
    "# from class_person import Person\n",
    "\n",
    "class Buyer(Person):\n",
    "    def __init__(self, name, age, money, product_num):\n",
    "        super(Buyer, self).__init__( name, age, money)\n",
    "        self.product_num = product_num\n",
    "        \n",
    "    def buy(self, other, how_many):\n",
    "        if self.money >= other.price * how_many and other.product >= how_many:\n",
    "            self.product_num += how_many\n",
    "            other.product_num -= how_many\n",
    "\n",
    "            self.money -= self.price * how_many\n",
    "            other.money += self.price * how_many               \n",
    "        else:\n",
    "            print('상품이 부족하거나 돈이 부족합니다.')\n",
    "    \n",
    "    def showMyInfo(self):\n",
    "        print(super().showMyInfo())\n",
    "        print('I\\'m buyer. I have {} products'.format(self.product_num))"
   ]
  },
  {
   "cell_type": "code",
   "execution_count": 20,
   "metadata": {
    "collapsed": false
   },
   "outputs": [
    {
     "name": "stdout",
     "output_type": "stream",
     "text": [
      "monkey has 3000\n",
      "None\n",
      "I'm seller. I have 8 products\n",
      "sunshine has 5000\n"
     ]
    },
    {
     "ename": "TypeError",
     "evalue": "unsupported operand type(s) for +: 'NoneType' and 'str'",
     "output_type": "error",
     "traceback": [
      "\u001b[0;31m---------------------------------------------------------------------------\u001b[0m",
      "\u001b[0;31mTypeError\u001b[0m                                 Traceback (most recent call last)",
      "\u001b[0;32m<ipython-input-20-4660730c958a>\u001b[0m in \u001b[0;36m<module>\u001b[0;34m()\u001b[0m\n\u001b[1;32m      5\u001b[0m \u001b[0;34m\u001b[0m\u001b[0m\n\u001b[1;32m      6\u001b[0m     \u001b[0ms1\u001b[0m\u001b[0;34m.\u001b[0m\u001b[0mshowMyInfo\u001b[0m\u001b[0;34m(\u001b[0m\u001b[0;34m)\u001b[0m\u001b[0;34m\u001b[0m\u001b[0m\n\u001b[0;32m----> 7\u001b[0;31m     \u001b[0mb1\u001b[0m\u001b[0;34m.\u001b[0m\u001b[0mshowMyInfo\u001b[0m\u001b[0;34m(\u001b[0m\u001b[0;34m)\u001b[0m\u001b[0;34m\u001b[0m\u001b[0m\n\u001b[0m",
      "\u001b[0;32m<ipython-input-16-aa68ff30a221>\u001b[0m in \u001b[0;36mshowMyInfo\u001b[0;34m(self)\u001b[0m\n\u001b[1;32m     19\u001b[0m \u001b[0;34m\u001b[0m\u001b[0m\n\u001b[1;32m     20\u001b[0m     \u001b[0;32mdef\u001b[0m \u001b[0mshowMyInfo\u001b[0m\u001b[0;34m(\u001b[0m\u001b[0mself\u001b[0m\u001b[0;34m)\u001b[0m\u001b[0;34m:\u001b[0m\u001b[0;34m\u001b[0m\u001b[0m\n\u001b[0;32m---> 21\u001b[0;31m         \u001b[0mprint\u001b[0m\u001b[0;34m(\u001b[0m\u001b[0msuper\u001b[0m\u001b[0;34m(\u001b[0m\u001b[0;34m)\u001b[0m\u001b[0;34m.\u001b[0m\u001b[0mshowMyInfo\u001b[0m\u001b[0;34m(\u001b[0m\u001b[0;34m)\u001b[0m\u001b[0;34m+\u001b[0m\u001b[0;34m'\\n I\\'m buyer'\u001b[0m\u001b[0;34m)\u001b[0m\u001b[0;34m\u001b[0m\u001b[0m\n\u001b[0m\u001b[1;32m     22\u001b[0m         \u001b[0mprint\u001b[0m\u001b[0;34m(\u001b[0m\u001b[0;34m'I have {} products'\u001b[0m\u001b[0;34m.\u001b[0m\u001b[0mformat\u001b[0m\u001b[0;34m(\u001b[0m\u001b[0mself\u001b[0m\u001b[0;34m.\u001b[0m\u001b[0mproduct_num\u001b[0m\u001b[0;34m)\u001b[0m\u001b[0;34m)\u001b[0m\u001b[0;34m\u001b[0m\u001b[0m\n",
      "\u001b[0;31mTypeError\u001b[0m: unsupported operand type(s) for +: 'NoneType' and 'str'"
     ]
    }
   ],
   "source": [
    "if __name__ == '__main__':\n",
    "    s1 = Seller('monkey', 25, 1000, 10)\n",
    "    b1 = Buyer('sunshine', 21, 7000, 1)\n",
    "    s1.sell(b1, 2)\n",
    "    \n",
    "    s1.showMyInfo()\n",
    "    b1.showMyInfo()"
   ]
  },
  {
   "cell_type": "code",
   "execution_count": null,
   "metadata": {
    "collapsed": true
   },
   "outputs": [],
   "source": []
  }
 ],
 "metadata": {
  "kernelspec": {
   "display_name": "Python 3",
   "language": "python",
   "name": "python3"
  },
  "language_info": {
   "codemirror_mode": {
    "name": "ipython",
    "version": 3
   },
   "file_extension": ".py",
   "mimetype": "text/x-python",
   "name": "python",
   "nbconvert_exporter": "python",
   "pygments_lexer": "ipython3",
   "version": "3.6.0"
  }
 },
 "nbformat": 4,
 "nbformat_minor": 2
}
