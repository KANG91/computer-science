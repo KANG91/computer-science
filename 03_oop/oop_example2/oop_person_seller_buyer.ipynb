{
 "cells": [
  {
   "cell_type": "markdown",
   "metadata": {},
   "source": [
    "# Person 클래스"
   ]
  },
  {
   "cell_type": "code",
   "execution_count": 33,
   "metadata": {
    "collapsed": false,
    "scrolled": true
   },
   "outputs": [
    {
     "name": "stdout",
     "output_type": "stream",
     "text": [
      "sunshine has 4500\n",
      "monkey has 1500\n"
     ]
    }
   ],
   "source": [
    "# 공통 속성을 뽑아서 부모 클래스 Person을 정의\n",
    "# class_person.py\n",
    "\n",
    "class Person:\n",
    "    def __init__(self, name, age, money):\n",
    "        self.name = name\n",
    "        self.age = age\n",
    "        self.money = money\n",
    "        \n",
    "    def give_money(self, other, how_much):\n",
    "        if how_much <= self.money:\n",
    "            other.money += how_much\n",
    "            self.money -= how_much\n",
    "        else:\n",
    "            print('you don\\'t have enough money')\n",
    "        \n",
    "    def showMyInfo(self):\n",
    "        print('{0} has {1}'.format(self.name, self.money))\n",
    "        \n",
    "# 테스트 코드 \n",
    "# 만약 이 파일이 import 모듈이 아니라 메인함수일 때 실행\n",
    "\n",
    "if __name__ == '__main__':\n",
    "    p1 = Person('sunshine', 25, 5000)\n",
    "    p2 = Person('monkey', 21, 1000)\n",
    "    \n",
    "    p1.give_money(p2, 500)\n",
    "    \n",
    "    p1.showMyInfo()\n",
    "    p2.showMyInfo()"
   ]
  },
  {
   "cell_type": "markdown",
   "metadata": {},
   "source": [
    "# Seller 클래스"
   ]
  },
  {
   "cell_type": "code",
   "execution_count": 34,
   "metadata": {
    "collapsed": false
   },
   "outputs": [],
   "source": [
    "# class_seller.py\n",
    "\n",
    "# from class_person import Person\n",
    "\n",
    "class Seller(Person):\n",
    "    price = 1000\n",
    "    \n",
    "    def __init__(self, name, age, money, product_num):\n",
    "        super(Seller, self).__init__(name, age, money)\n",
    "        self.product_num = product_num\n",
    "        \n",
    "    def sell(self, other, how_many):\n",
    "        if self.product_num >= how_many and other.money >= self.price * how_many:\n",
    "            self.product_num -= how_many\n",
    "            other.product_num += how_many\n",
    "\n",
    "            self.money += self.price * how_many\n",
    "            other.money -= self.price * how_many     \n",
    "            \n",
    "        else:\n",
    "            print('상품이 부족하거나 돈이 부족합니다.')         \n",
    "            \n",
    "    def showMyInfo(self):\n",
    "        super().showMyInfo()\n",
    "        print('I\\'m seller. I have {} products'.format(self.product_num))"
   ]
  },
  {
   "cell_type": "markdown",
   "metadata": {},
   "source": [
    "# Buyer 클래스"
   ]
  },
  {
   "cell_type": "code",
   "execution_count": 42,
   "metadata": {
    "collapsed": false
   },
   "outputs": [],
   "source": [
    "# class_buyer.py\n",
    "\n",
    "# from class_person import Person\n",
    "\n",
    "class Buyer(Person):\n",
    "    def __init__(self, name, age, money, product_num):\n",
    "        super(Buyer, self).__init__( name, age, money)\n",
    "        self.product_num = product_num\n",
    "        \n",
    "    def buy(self, other, how_many):\n",
    "        if self.money >= other.price * how_many and other.product_num >= how_many:\n",
    "            self.product_num += how_many\n",
    "            other.product_num -= how_many\n",
    "\n",
    "            self.money -= other.price * how_many\n",
    "            other.money += other.price * how_many               \n",
    "        else:\n",
    "            print('상품이 부족하거나 돈이 부족합니다.')\n",
    "    \n",
    "    def showMyInfo(self):\n",
    "        super().showMyInfo()\n",
    "        print('I\\'m buyer. I have {} products'.format(self.product_num))"
   ]
  },
  {
   "cell_type": "code",
   "execution_count": 43,
   "metadata": {
    "collapsed": false
   },
   "outputs": [
    {
     "name": "stdout",
     "output_type": "stream",
     "text": [
      "monkey has 3000\n",
      "I'm seller. I have 8 products\n",
      "sunshine has 5000\n",
      "I'm buyer. I have 3 products\n"
     ]
    }
   ],
   "source": [
    "if __name__ == '__main__':\n",
    "    s1 = Seller('monkey', 25, 1000, 10)\n",
    "    b1 = Buyer('sunshine', 21, 7000, 1)\n",
    "    s1.sell(b1, 2)\n",
    "    \n",
    "    s1.showMyInfo()\n",
    "    b1.showMyInfo()"
   ]
  },
  {
   "cell_type": "markdown",
   "metadata": {},
   "source": [
    "# 메인함수"
   ]
  },
  {
   "cell_type": "code",
   "execution_count": 46,
   "metadata": {
    "collapsed": false
   },
   "outputs": [
    {
     "name": "stdout",
     "output_type": "stream",
     "text": [
      "greg has 10000\n",
      "I'm seller. I have 100 products\n",
      "\n",
      "\n",
      "taehwan has 10000\n",
      "I'm buyer. I have 0 products\n",
      "\n",
      "\n",
      "greg has 16000\n",
      "I'm seller. I have 94 products\n",
      "\n",
      "\n",
      "taehwan has 4000\n",
      "I'm buyer. I have 6 products\n"
     ]
    }
   ],
   "source": [
    "#class_main.py\n",
    "\n",
    "# from class_person import Person\n",
    "# from class_seller import Seller\n",
    "# from class_buyer import Buyer\n",
    "\n",
    "p1 = Seller(\"greg\", 35, 10000, 100)\n",
    "p2 = Buyer(\"taehwan\", 21, 10000, 0)\n",
    "\n",
    "p1.showMyInfo()\n",
    "print('\\n')\n",
    "p2.showMyInfo()\n",
    "\n",
    "p1.sell(p2, 3)\n",
    "p2.buy(p1, 3)\n",
    "print('\\n')\n",
    "\n",
    "p1.showMyInfo()\n",
    "print('\\n')\n",
    "p2.showMyInfo()"
   ]
  },
  {
   "cell_type": "code",
   "execution_count": null,
   "metadata": {
    "collapsed": true
   },
   "outputs": [],
   "source": []
  },
  {
   "cell_type": "code",
   "execution_count": null,
   "metadata": {
    "collapsed": true
   },
   "outputs": [],
   "source": []
  }
 ],
 "metadata": {
  "kernelspec": {
   "display_name": "Python 3",
   "language": "python",
   "name": "python3"
  },
  "language_info": {
   "codemirror_mode": {
    "name": "ipython",
    "version": 3
   },
   "file_extension": ".py",
   "mimetype": "text/x-python",
   "name": "python",
   "nbconvert_exporter": "python",
   "pygments_lexer": "ipython3",
   "version": "3.6.0"
  }
 },
 "nbformat": 4,
 "nbformat_minor": 2
}
