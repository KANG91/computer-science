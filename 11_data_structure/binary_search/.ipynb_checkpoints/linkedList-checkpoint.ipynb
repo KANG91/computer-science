{
 "cells": [
  {
   "cell_type": "code",
   "execution_count": 4,
   "metadata": {
    "collapsed": true
   },
   "outputs": [],
   "source": [
    "class Node:\n",
    "    def __init__(self, data):\n",
    "        self.data = data\n",
    "        self.next = None\n",
    "\n",
    "\n",
    "class LinkedList:\n",
    "    def __init__(self):\n",
    "        dummy = Node(\"dummy\")\n",
    "\n",
    "        self.head = dummy\n",
    "        self.tail = dummy\n",
    "        \n",
    "        self.current = None\n",
    "        self.before = None\n",
    "        \n",
    "        self.num_of_data = 0\n",
    "        \n",
    "    def append(self, data):\n",
    "        new_node = Node(data)\n",
    "        self.tail.next = new_node\n",
    "        self.tail = new_node\n",
    "        \n",
    "        self.num_of_data += 1\n",
    "        \n",
    "    def first(self):\n",
    "        if self.num_of_data == 0:\n",
    "            return None\n",
    "        \n",
    "        self.before = self.head\n",
    "        self.current = self.head.next\n",
    "        \n",
    "        return self.current.data\n",
    "    \n",
    "    def next(self):\n",
    "        if self.current.next == None:\n",
    "            return None\n",
    "        \n",
    "        self.before = self.current\n",
    "        self.current = self.current.next\n",
    "        \n",
    "        return self.current.data\n",
    "    \n",
    "    def delete(self):\n",
    "        ret_data = self.current.data\n",
    "        \n",
    "        if self.current is self.tail:\n",
    "            self.tail = self.head\n",
    "        \n",
    "        self.before.next = self.current.next\n",
    "        self.current = self.before\n",
    "        self.num_of_data -= 1\n",
    "        \n",
    "        return ret_data\n",
    "    \n",
    "    def size(self):\n",
    "        return self.num_of_data"
   ]
  },
  {
   "cell_type": "code",
   "execution_count": 6,
   "metadata": {
    "collapsed": false
   },
   "outputs": [
    {
     "name": "stdout",
     "output_type": "stream",
     "text": [
      "the number of data: 0\n"
     ]
    }
   ],
   "source": [
    "d_list = LinkedList()\n",
    "\n",
    "print(\"the number of data: {}\".format(d_list.size()))"
   ]
  },
  {
   "cell_type": "code",
   "execution_count": 7,
   "metadata": {
    "collapsed": true
   },
   "outputs": [],
   "source": [
    "# insert \n",
    "d_list.append(2)\n",
    "d_list.append(3)\n",
    "d_list.append(1)\n",
    "d_list.append(5)\n",
    "d_list.append(2)\n",
    "d_list.append(10)\n",
    "d_list.append(7)\n",
    "d_list.append(2)\n",
    "\n",
    "data = d_list.first()\n",
    "\n",
    "if data: \n",
    "    print(data, end = ' ')\n",
    "    while True:\n",
    "        data = d_list.next()\n",
    "        if data:\n",
    "            print(data)\n",
    "        else:\n",
    "            break"
   ]
  },
  {
   "cell_type": "code",
   "execution_count": null,
   "metadata": {
    "collapsed": true
   },
   "outputs": [],
   "source": [
    "\n"
   ]
  }
 ],
 "metadata": {
  "kernelspec": {
   "display_name": "Python 3",
   "language": "python",
   "name": "python3"
  },
  "language_info": {
   "codemirror_mode": {
    "name": "ipython",
    "version": 3
   },
   "file_extension": ".py",
   "mimetype": "text/x-python",
   "name": "python",
   "nbconvert_exporter": "python",
   "pygments_lexer": "ipython3",
   "version": "3.6.0"
  }
 },
 "nbformat": 4,
 "nbformat_minor": 2
}
