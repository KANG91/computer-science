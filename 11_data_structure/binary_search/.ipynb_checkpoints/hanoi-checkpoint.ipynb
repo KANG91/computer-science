{
 "cells": [
  {
   "cell_type": "code",
   "execution_count": 1,
   "metadata": {
    "collapsed": true
   },
   "outputs": [],
   "source": [
    "def hanoi(n, _from, _by, _to):\n",
    "    if n == 1:\n",
    "        print(\"{}에서 {}로 {}번째 쟁반 이동\".format(_from, _to, n))\n",
    "        return \n",
    "    \n",
    "    hanoi(n-1, _from, _to, _by)\n",
    "    print(\"{}에서 {}로 {}번째 쟁반 이동\".format(_from, _to, n))\n",
    "    hanoi(n-1, _by, _from, _to)\n",
    "    "
   ]
  },
  {
   "cell_type": "code",
   "execution_count": null,
   "metadata": {
    "collapsed": true
   },
   "outputs": [],
   "source": []
  }
 ],
 "metadata": {
  "kernelspec": {
   "display_name": "Python 3",
   "language": "python",
   "name": "python3"
  },
  "language_info": {
   "codemirror_mode": {
    "name": "ipython",
    "version": 3
   },
   "file_extension": ".py",
   "mimetype": "text/x-python",
   "name": "python",
   "nbconvert_exporter": "python",
   "pygments_lexer": "ipython3",
   "version": "3.6.0"
  }
 },
 "nbformat": 4,
 "nbformat_minor": 2
}
