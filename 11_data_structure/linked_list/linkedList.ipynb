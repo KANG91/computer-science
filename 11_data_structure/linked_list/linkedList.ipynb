{
 "cells": [
  {
   "cell_type": "code",
   "execution_count": 16,
   "metadata": {
    "collapsed": true,
    "deletable": true,
    "editable": true
   },
   "outputs": [],
   "source": [
    "class Node:\n",
    "    def __init__(self, data):\n",
    "        self.data = data\n",
    "        self.next = None\n",
    "\n",
    "\n",
    "class LinkedList:\n",
    "    def __init__(self):\n",
    "        dummy = Node(\"dummy\")\n",
    "\n",
    "        self.head = dummy\n",
    "        self.tail = dummy\n",
    "        \n",
    "        self.current = None\n",
    "        self.before = None\n",
    "        \n",
    "        self.num_of_data = 0\n",
    "        \n",
    "    def append(self, data):\n",
    "        new_node = Node(data)\n",
    "        self.tail.next = new_node\n",
    "        self.tail = new_node\n",
    "        \n",
    "        self.num_of_data += 1\n",
    "        \n",
    "    def first(self):\n",
    "        if self.num_of_data == 0:\n",
    "            return None\n",
    "        \n",
    "        self.before = self.head\n",
    "        self.current = self.head.next\n",
    "        \n",
    "        return self.current.data\n",
    "    \n",
    "    def next(self):\n",
    "        if self.current.next == None:\n",
    "            return None\n",
    "        \n",
    "        self.before = self.current\n",
    "        self.current = self.current.next\n",
    "        \n",
    "        return self.current.data\n",
    "    \n",
    "    def delete(self):\n",
    "        ret_data = self.current.data\n",
    "        \n",
    "        if self.current is self.tail:\n",
    "            self.tail = self.head\n",
    "        \n",
    "        self.before.next = self.current.next\n",
    "        self.current = self.before\n",
    "        self.num_of_data -= 1\n",
    "        \n",
    "        return ret_data\n",
    "    \n",
    "    def size(self):\n",
    "        return self.num_of_data"
   ]
  },
  {
   "cell_type": "code",
   "execution_count": 17,
   "metadata": {
    "collapsed": false,
    "deletable": true,
    "editable": true
   },
   "outputs": [
    {
     "name": "stdout",
     "output_type": "stream",
     "text": [
      "the number of data: 0\n"
     ]
    }
   ],
   "source": [
    "d_list = LinkedList()\n",
    "\n",
    "print(\"the number of data: {}\".format(d_list.size()))"
   ]
  },
  {
   "cell_type": "code",
   "execution_count": 18,
   "metadata": {
    "collapsed": false,
    "deletable": true,
    "editable": true
   },
   "outputs": [
    {
     "name": "stdout",
     "output_type": "stream",
     "text": [
      "2 3 1 5 2 10 7 2 "
     ]
    }
   ],
   "source": [
    "# insert \n",
    "d_list.append(2)\n",
    "d_list.append(3)\n",
    "d_list.append(1)\n",
    "d_list.append(5)\n",
    "d_list.append(2)\n",
    "d_list.append(10)\n",
    "d_list.append(7)\n",
    "d_list.append(2)\n",
    "\n",
    "data = d_list.first()\n",
    "if data: \n",
    "    print(data, end = ' ')\n",
    "    while True:\n",
    "        data = d_list.next()\n",
    "        if data:\n",
    "            print(data, end = ' ')\n",
    "        else:\n",
    "            break"
   ]
  },
  {
   "cell_type": "code",
   "execution_count": 19,
   "metadata": {
    "collapsed": false,
    "deletable": true,
    "editable": true
   },
   "outputs": [
    {
     "name": "stdout",
     "output_type": "stream",
     "text": [
      "deleted 3 1 5 deleted 10 7 deleted "
     ]
    }
   ],
   "source": [
    "data = d_list.first()\n",
    "\n",
    "if data:\n",
    "    if data == 2:\n",
    "        d_list.delete()\n",
    "        print(\"deleted\", end= ' ')\n",
    "    while True:\n",
    "        data = d_list.next()\n",
    "        if data == 2:\n",
    "            d_list.delete()\n",
    "            print(\"deleted\", end= ' ')\n",
    "        elif data:\n",
    "            print(data, end = ' ')\n",
    "        else:\n",
    "            break"
   ]
  },
  {
   "cell_type": "code",
   "execution_count": 20,
   "metadata": {
    "collapsed": true,
    "deletable": true,
    "editable": true
   },
   "outputs": [],
   "source": [
    "# 인덱싱이 안되니까 first, next를 따로 둔다. \n",
    "# delete 함수에서 current가 before로 옮기는 이유\n"
   ]
  },
  {
   "cell_type": "code",
   "execution_count": null,
   "metadata": {
    "collapsed": true
   },
   "outputs": [],
   "source": []
  }
 ],
 "metadata": {
  "kernelspec": {
   "display_name": "Python 3",
   "language": "python",
   "name": "python3"
  },
  "language_info": {
   "codemirror_mode": {
    "name": "ipython",
    "version": 3
   },
   "file_extension": ".py",
   "mimetype": "text/x-python",
   "name": "python",
   "nbconvert_exporter": "python",
   "pygments_lexer": "ipython3",
   "version": "3.6.0"
  }
 },
 "nbformat": 4,
 "nbformat_minor": 2
}
