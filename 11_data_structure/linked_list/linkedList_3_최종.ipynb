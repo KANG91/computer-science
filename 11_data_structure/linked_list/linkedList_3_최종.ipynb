{
 "cells": [
  {
   "cell_type": "code",
   "execution_count": 106,
   "metadata": {
    "collapsed": true
   },
   "outputs": [],
   "source": [
    "class Node:\n",
    "    def __init__(self, data):\n",
    "        self.data = data\n",
    "        self.next = None\n",
    "        \n",
    "class LinkedList:\n",
    "    def __init__(self):\n",
    "        dummy = Node(\"dummy\")\n",
    "        self.head = dummy\n",
    "        self.tail = dummy\n",
    "        \n",
    "        self.current = None\n",
    "        self.before = None\n",
    "        \n",
    "        self.num_of_data = 0\n",
    "        \n",
    "    def append(self, data): # current와 before는? \n",
    "        new_node = Node(data)\n",
    "        self.tail.next = new_node\n",
    "        self.tail = new_node\n",
    "        \n",
    "        \n",
    "        self.num_of_data += 1\n",
    "        \n",
    "    def first(self): # 맨 처음으로 가고 싶을 때\n",
    "        if self.num_of_data == 0:\n",
    "            return None\n",
    "        \n",
    "        self.before = self.head\n",
    "        self.current = self.head.next\n",
    "        \n",
    "        return self.current.data\n",
    "    \n",
    "    def next(self):\n",
    "        if self.current.next == None:\n",
    "            return None\n",
    "        \n",
    "        self.before = self.current\n",
    "        self.current = self.current.next\n",
    "        \n",
    "        return self.current.data\n",
    "    \n",
    "    def delete(self):\n",
    "        ret_data = self.current.data \n",
    "        \n",
    "        if self.current is self.tail:\n",
    "            self.tail = self.before\n",
    "        \n",
    "        self.before.next = self.current.next\n",
    "        self.current = self.before\n",
    "        self.num_of_data -= 1\n",
    "        \n",
    "        return ret_data\n",
    "    \n",
    "    def size(self):\n",
    "        return self.num_of_data"
   ]
  },
  {
   "cell_type": "markdown",
   "metadata": {},
   "source": [
    "## 유저 프로그램으로서의 ADT 활용"
   ]
  },
  {
   "cell_type": "code",
   "execution_count": 107,
   "metadata": {
    "collapsed": true
   },
   "outputs": [],
   "source": [
    "d_list = LinkedList()"
   ]
  },
  {
   "cell_type": "code",
   "execution_count": 108,
   "metadata": {
    "collapsed": true
   },
   "outputs": [],
   "source": [
    "\n",
    "d_list.append(5)\n",
    "d_list.append(2)\n",
    "d_list.append(1)\n",
    "d_list.append(2)\n",
    "d_list.append(7)\n",
    "d_list.append(2)"
   ]
  },
  {
   "cell_type": "code",
   "execution_count": 109,
   "metadata": {
    "collapsed": false
   },
   "outputs": [
    {
     "name": "stdout",
     "output_type": "stream",
     "text": [
      "데이터의 개수 : 6\n",
      "5 "
     ]
    }
   ],
   "source": [
    "data = d_list.first()\n",
    "\n",
    "print('데이터의 개수 : {}'.format(d_list.size()))\n",
    "if data:\n",
    "    print(data, end=' ')\n",
    "else:\n",
    "    print(\"데이터가 없어요\")"
   ]
  },
  {
   "cell_type": "code",
   "execution_count": 110,
   "metadata": {
    "collapsed": false
   },
   "outputs": [
    {
     "name": "stdout",
     "output_type": "stream",
     "text": [
      "2 "
     ]
    }
   ],
   "source": [
    "data = d_list.next()\n",
    "\n",
    "if data:\n",
    "    print(data, end = ' ')\n",
    "else:\n",
    "    print('데이터가 더 이상 없어요')"
   ]
  },
  {
   "cell_type": "code",
   "execution_count": 111,
   "metadata": {
    "collapsed": false
   },
   "outputs": [
    {
     "name": "stdout",
     "output_type": "stream",
     "text": [
      "5 2 1 2 7 2 "
     ]
    }
   ],
   "source": [
    "data = d_list.first()\n",
    "if data:\n",
    "    print(data, end= ' ')\n",
    "    while True:\n",
    "        data = d_list.next()\n",
    "        if data:\n",
    "            print(data, end = ' ')\n",
    "        else: \n",
    "            break"
   ]
  },
  {
   "cell_type": "code",
   "execution_count": 112,
   "metadata": {
    "collapsed": false
   },
   "outputs": [
    {
     "name": "stdout",
     "output_type": "stream",
     "text": [
      "5 deleted 1 deleted 7 deleted "
     ]
    }
   ],
   "source": [
    "# 2만 지워보기\n",
    "data = d_list.first()\n",
    "\n",
    "if data and data == 2:\n",
    "    d_list.delete()\n",
    "    print('deleted', end= ' ')\n",
    "else:\n",
    "    print(data, end=' ')\n",
    "while True:\n",
    "    data = d_list.next()\n",
    "    if data == 2: \n",
    "        d_list.delete()\n",
    "        print('deleted', end= ' ')\n",
    "    elif data:\n",
    "        print(data, end= ' ')\n",
    "    else:\n",
    "        break\n"
   ]
  },
  {
   "cell_type": "code",
   "execution_count": null,
   "metadata": {
    "collapsed": true
   },
   "outputs": [],
   "source": []
  },
  {
   "cell_type": "code",
   "execution_count": null,
   "metadata": {
    "collapsed": true
   },
   "outputs": [],
   "source": []
  }
 ],
 "metadata": {
  "kernelspec": {
   "display_name": "Python 3",
   "language": "python",
   "name": "python3"
  },
  "language_info": {
   "codemirror_mode": {
    "name": "ipython",
    "version": 3
   },
   "file_extension": ".py",
   "mimetype": "text/x-python",
   "name": "python",
   "nbconvert_exporter": "python",
   "pygments_lexer": "ipython3",
   "version": "3.6.0"
  }
 },
 "nbformat": 4,
 "nbformat_minor": 2
}
