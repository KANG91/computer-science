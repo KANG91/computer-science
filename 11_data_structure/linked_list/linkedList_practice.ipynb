{
 "cells": [
  {
   "cell_type": "code",
   "execution_count": 67,
   "metadata": {
    "collapsed": true,
    "deletable": true,
    "editable": true
   },
   "outputs": [],
   "source": [
    "# Node 클래스 정의 \n",
    "\n",
    "class Node:\n",
    "    def __init__(self, data):\n",
    "        self.data = data\n",
    "        self.next = None\n",
    "        \n",
    "\n",
    "# LinkedList 클래스 (자료구조) 정의 \n",
    "\n",
    "class LinkedList:\n",
    "    \n",
    "    # 초기화 메소드 \n",
    "    def __init__(self): \n",
    "        dummy = Node(\"dummy\")\n",
    "        self.head = dummy\n",
    "        self.tail = dummy\n",
    "        \n",
    "        self.current = None\n",
    "        self.before = None\n",
    "        \n",
    "        self.num_of_data = 0\n",
    "        \n",
    "    # append 메소드 (insert - 맨 뒤에 노드 추가, tail과 node의 next, 데이터 개수 변경)\n",
    "    def append(self, data):\n",
    "        new_node = Node(data)\n",
    "        self.tail.next = new_node\n",
    "        self.tail = new_node\n",
    "        \n",
    "        self.num_of_data += 1\n",
    "    \n",
    "    # delete 메소드 (delete - current 노드 삭제, 인접 노드의 current, next 변경, 데이터 개수 변경)\n",
    "    def delete(self):\n",
    "        pop_data = self.current.data\n",
    "        \n",
    "        if self.current is self.tail: \n",
    "            self.tail = self.before\n",
    "        \n",
    "        self.before.next = self.current.next\n",
    "        self.current = self.before # 중요 : current가 next가 아닌 before로 변경된다. \n",
    "        # \n",
    "        \n",
    "        self.num_of_data -= 1\n",
    "        \n",
    "        return pop_data\n",
    "    \n",
    "    # first 메소드 (search1 - 맨 앞의 노드 검색, before, current 변경)\n",
    "    def first(self):\n",
    "        if self.num_of_data == 0: # 데이터가 없는 경우 첫번째 노드도 없기 때문에 None 리턴\n",
    "            return None\n",
    "        \n",
    "        self.before = self.head\n",
    "        self.current = self.head.next\n",
    "        \n",
    "        return self.current.data\n",
    "        \n",
    "    # next 메소드 (search2 - current 노드의 다음 노드 검색, 이전에 first 메소드가 한번은 실행되어야 함)\n",
    "    def next(self):\n",
    "        if self.current.next == None:\n",
    "            return None \n",
    "        \n",
    "        self.before = self.current\n",
    "        self.current = self.current.next\n",
    "        \n",
    "        return self.current.data\n",
    "    \n",
    "    def size(self):\n",
    "        return self.num_of_data\n",
    "    "
   ]
  },
  {
   "cell_type": "code",
   "execution_count": 68,
   "metadata": {
    "collapsed": true,
    "deletable": true,
    "editable": true
   },
   "outputs": [],
   "source": [
    "l_list = LinkedList()"
   ]
  },
  {
   "cell_type": "code",
   "execution_count": 69,
   "metadata": {
    "collapsed": false,
    "deletable": true,
    "editable": true
   },
   "outputs": [
    {
     "name": "stdout",
     "output_type": "stream",
     "text": [
      "first : 5\n",
      "next : 2\n",
      "size : 7\n",
      "delete : 2\n",
      "size : 6\n",
      "current: 5\n",
      "tail: 11\n",
      "first : 5\n",
      "next : 1\n",
      "next : 2\n",
      "next : 7\n"
     ]
    }
   ],
   "source": [
    "l_list.append(5)\n",
    "l_list.append(2)\n",
    "l_list.append(1)\n",
    "l_list.append(2)\n",
    "l_list.append(7)\n",
    "l_list.append(2)\n",
    "l_list.append(11)\n",
    "\n",
    "print('first :', l_list.first())\n",
    "print('next :', l_list.next())\n",
    "print('size :', l_list.size())\n",
    "print('delete :', l_list.delete())\n",
    "print('size :', l_list.size())\n",
    "print('current:', l_list.current.data)\n",
    "print('tail:', l_list.tail.data)\n",
    "print('first :', l_list.first())\n",
    "print('next :', l_list.next())\n",
    "print('next :', l_list.next())\n",
    "print('next :', l_list.next())\n"
   ]
  },
  {
   "cell_type": "code",
   "execution_count": 70,
   "metadata": {
    "collapsed": false,
    "deletable": true,
    "editable": true,
    "scrolled": true
   },
   "outputs": [
    {
     "name": "stdout",
     "output_type": "stream",
     "text": [
      "5\n"
     ]
    }
   ],
   "source": [
    "data = l_list.first()\n",
    "print(l_list.current.data)\n"
   ]
  },
  {
   "cell_type": "code",
   "execution_count": 71,
   "metadata": {
    "collapsed": false,
    "deletable": true,
    "editable": true
   },
   "outputs": [
    {
     "name": "stdout",
     "output_type": "stream",
     "text": [
      "5 1 2 7 2 11 "
     ]
    }
   ],
   "source": [
    "data = l_list.first()\n",
    "\n",
    "if data:\n",
    "    print(data, end=' ')\n",
    "    while True:\n",
    "        data = l_list.next()\n",
    "        if data:\n",
    "            print(data, end= ' ')\n",
    "        else:\n",
    "            break"
   ]
  },
  {
   "cell_type": "code",
   "execution_count": 74,
   "metadata": {
    "collapsed": false
   },
   "outputs": [
    {
     "name": "stdout",
     "output_type": "stream",
     "text": [
      "5 1 deleted 7 deleted 11 "
     ]
    }
   ],
   "source": [
    "# 2만 삭제하기 \n",
    "data = l_list.first()\n",
    "\n",
    "if data and data == 2:\n",
    "    l_list.delete()\n",
    "    print('deleted', end=' ')\n",
    "else:\n",
    "    print(data, end= ' ')\n",
    "\n",
    "while True:\n",
    "    data = l_list.next()\n",
    "    if data == 2:\n",
    "        l_list.delete()\n",
    "        print('deleted', end=' ')\n",
    "    elif data:\n",
    "        print(data, end=' ')\n",
    "    else:\n",
    "        break"
   ]
  },
  {
   "cell_type": "code",
   "execution_count": null,
   "metadata": {
    "collapsed": true
   },
   "outputs": [],
   "source": []
  }
 ],
 "metadata": {
  "kernelspec": {
   "display_name": "Python 3",
   "language": "python",
   "name": "python3"
  },
  "language_info": {
   "codemirror_mode": {
    "name": "ipython",
    "version": 3
   },
   "file_extension": ".py",
   "mimetype": "text/x-python",
   "name": "python",
   "nbconvert_exporter": "python",
   "pygments_lexer": "ipython3",
   "version": "3.6.0"
  }
 },
 "nbformat": 4,
 "nbformat_minor": 2
}
