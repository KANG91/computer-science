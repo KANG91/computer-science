{
 "cells": [
  {
   "cell_type": "code",
   "execution_count": 11,
   "metadata": {
    "collapsed": false
   },
   "outputs": [
    {
     "name": "stdout",
     "output_type": "stream",
     "text": [
      "[1, 2, 3, 4, 5, 6, 7, 8, 9, 10, 11, 12, 13, 14]\n",
      "call of partition: 7\n"
     ]
    }
   ],
   "source": [
    "call_of_partition = 0 \n",
    "\n",
    "def get_pivot(li, start, end):\n",
    "    mid = (start + end) // 2\n",
    "    idx_list = [start, mid, end]\n",
    "    \n",
    "    # 버블정렬로 비교\n",
    "    #[가장 작은 값의 index, 가운데 값의 index, 가장 큰 값의 index] 순으로 정렬\n",
    "    if li[idx_list[0]] > li[idx_list[1]]:\n",
    "        list_idx[0], list_idx[1] = list_idx[1], list_idx[0]\n",
    "    if li[idx_list[1]] > li[idx_list[2]]:\n",
    "        idx_list[1], idx_list[2] = idx_list[2], idx_list[1]\n",
    "    if li[idx_list[0]] > li[idx_list[1]]:\n",
    "        idx_list[0], idx_list[1] = idx_list[1], idx_list[0]\n",
    "\n",
    "            \n",
    "    \n",
    "    return idx_list[1]\n",
    "    \n",
    "    \n",
    "def partition(data, start, end):\n",
    "    global call_of_partition\n",
    "    call_of_partition += 1\n",
    "    \n",
    "    idx_pivot = get_pivot(data, start, end)\n",
    "    data[start], data[idx_pivot] = data[idx_pivot], data[start]\n",
    "    \n",
    "    pivot = data[start]\n",
    "    \n",
    "    low = start + 1\n",
    "    high = end\n",
    "    \n",
    "    while low <= high:\n",
    "        while low <= end and data[low] <= pivot:\n",
    "            low += 1\n",
    "\n",
    "        while high  >= (start + 1) and data[high] >= pivot:\n",
    "            high -= 1\n",
    "        \n",
    "        # 아직 교차 전이면\n",
    "        if low <= high:\n",
    "            data[low], data[high] = data[high], data[low]\n",
    "        \n",
    "    data[start], data[high] = data[high], data[start]\n",
    "    \n",
    "    return high\n",
    "\n",
    "def quick_sort(data, start, end):\n",
    "    if start >= end:\n",
    "        return\n",
    "    \n",
    "    idx_pivot = partition(data, start, end)\n",
    "    \n",
    "    quick_sort(data, start, idx_pivot - 1)\n",
    "    quick_sort(data, idx_pivot + 1, end)\n",
    "    \n",
    "if __name__ == \"__main__\":\n",
    "#     li = [2, 5, 4, 1, 8, 10, 5, 3, 6, 6, 5, 7, 9, 12, 11]\n",
    "\n",
    "    #정렬된 리스트에서의 성능 평가를 위한 리스트\n",
    "    li = [1, 2, 3, 4, 5, 6, 7, 8, 9, 10, 11, 12, 13, 14]\n",
    "    \n",
    "    quick_sort(li, 0, len(li)-1)\n",
    "\n",
    "    print(li)    \n",
    "    # 성능테스트\n",
    "    print('call of partition: {}'.format(call_of_partition))"
   ]
  },
  {
   "cell_type": "code",
   "execution_count": null,
   "metadata": {
    "collapsed": true
   },
   "outputs": [],
   "source": []
  },
  {
   "cell_type": "code",
   "execution_count": null,
   "metadata": {
    "collapsed": true
   },
   "outputs": [],
   "source": []
  }
 ],
 "metadata": {
  "kernelspec": {
   "display_name": "Python 3",
   "language": "python",
   "name": "python3"
  },
  "language_info": {
   "codemirror_mode": {
    "name": "ipython",
    "version": 3
   },
   "file_extension": ".py",
   "mimetype": "text/x-python",
   "name": "python",
   "nbconvert_exporter": "python",
   "pygments_lexer": "ipython3",
   "version": "3.6.0"
  }
 },
 "nbformat": 4,
 "nbformat_minor": 2
}
