{
 "cells": [
  {
   "cell_type": "markdown",
   "metadata": {
    "deletable": true,
    "editable": true
   },
   "source": [
    "# 퀵소트 구현 연습 "
   ]
  },
  {
   "cell_type": "code",
   "execution_count": null,
   "metadata": {
    "collapsed": true,
    "deletable": true,
    "editable": true
   },
   "outputs": [],
   "source": [
    "# 파티션 (pivot)\n",
    "\n",
    "def partition(data, start, end):\n",
    "    pivot = data[start]\n",
    "    \n",
    "    idx_low = start + 1\n",
    "    idx_high = end\n",
    "    \n",
    "    # low와 high가 교차해야한다. (중요)\n",
    "    while idx_low <= idx_high:\n",
    "        # low가 end보다 같거나 작고, low index에 해당하는 값이 pivot값 보다 작거나 같으면 low는 오른쪽으로 계속 이동\n",
    "        while idx_low <= end and data[idx_low] <= pivot:\n",
    "            idx_low += 1\n",
    "            \n",
    "        # high가 start+1 보다 같거나 크고, higt index에 해당하는 값이 pivot값 보다 크거나 같으면 high는 왼쪽으로 계속 이동\n",
    "        while idx_high >= (start + 1) and data[idx_high] >= pivot:\n",
    "            idx_high -= 1\n",
    "        \n",
    "        # low 값과 high 값을 교환\n",
    "        if idx_low <= idx_high:\n",
    "            data[idx_low], data[idx_high] = data[idx_high], data[idx_low]\n",
    "            \n",
    "    # low와 high가 교차하면 pivot과 high의 값을 교환\n",
    "    data[start], data[idx_high] = data[idx_high], data[start]\n",
    "    \n",
    "    return idx_high\n",
    "\n",
    "def quick_sort(data, start, end):\n",
    "    if start >= end:\n",
    "        return \n",
    "    \n",
    "    idx_pivot = partition(data, start, end)\n",
    "    \n",
    "    quick_sort(data, start, idx_pivot - 1)\n",
    "    quick_sort(data, idx_pivot + 1, end)\n",
    "            "
   ]
  }
 ],
 "metadata": {
  "kernelspec": {
   "display_name": "Python 3",
   "language": "python",
   "name": "python3"
  },
  "language_info": {
   "codemirror_mode": {
    "name": "ipython",
    "version": 3
   },
   "file_extension": ".py",
   "mimetype": "text/x-python",
   "name": "python",
   "nbconvert_exporter": "python",
   "pygments_lexer": "ipython3",
   "version": "3.6.0"
  }
 },
 "nbformat": 4,
 "nbformat_minor": 2
}
