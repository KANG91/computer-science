{
 "cells": [
  {
   "cell_type": "markdown",
   "metadata": {},
   "source": [
    "# 퀵소트 구현 "
   ]
  },
  {
   "cell_type": "code",
   "execution_count": null,
   "metadata": {
    "collapsed": true
   },
   "outputs": [],
   "source": [
    "# 파티션 (pivot)\n",
    "\n",
    "def partition(data, start, end):\n",
    "    pivot = data[start]\n",
    "    \n",
    "    low = start + 1 \n",
    "    high = end\n",
    "    \n",
    "    # low와 high 가 반드시 교차해야한다. (중요)\n",
    "    while low <= hight:\n",
    "        while low <= end and data[low] <= pivot:\n",
    "            low += 1\n",
    "        \n",
    "        while hight >= (start + 1) and data[high] >= pivot:\n",
    "            hight -= 1\n",
    "            \n",
    "        if low <= high:\n",
    "            data[low], data[high] = data[high], data[low]\n",
    "            \n",
    "    data[start], data[high] = data[high], data[start]\n",
    "    \n",
    "    return high\n",
    "\n",
    "def quick_sort(data, start, end):\n",
    "    if start >= end: \n",
    "        return \n",
    "    \n",
    "    idx_pivot = partition(data, start, end)\n",
    "    \n",
    "    quick_sort(data, start, idx_pivot - 1)\n",
    "    quick_sort(data, idx_pivot + 1, end)\n",
    "        "
   ]
  }
 ],
 "metadata": {
  "kernelspec": {
   "display_name": "Python 3",
   "language": "python",
   "name": "python3"
  },
  "language_info": {
   "codemirror_mode": {
    "name": "ipython",
    "version": 3
   },
   "file_extension": ".py",
   "mimetype": "text/x-python",
   "name": "python",
   "nbconvert_exporter": "python",
   "pygments_lexer": "ipython3",
   "version": "3.6.0"
  }
 },
 "nbformat": 4,
 "nbformat_minor": 2
}
