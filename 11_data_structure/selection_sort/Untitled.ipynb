{
 "cells": [
  {
   "cell_type": "code",
   "execution_count": 1,
   "metadata": {
    "collapsed": false
   },
   "outputs": [
    {
     "name": "stdout",
     "output_type": "stream",
     "text": [
      "[1, 2, 3, 4, 5, 6, 7, 8, 9, 10, 11, 12]\n"
     ]
    }
   ],
   "source": [
    "\n",
    "#맨 왼쪽부터 하나씩 최소값을 선택(selection)해 채운다\n",
    "\n",
    "def SelectionSort(li):\n",
    "    #최소값을 가지는 인덱스를 담을 인덱스 변수\n",
    "    minIdx = 0\n",
    "    #리스트의 길이\n",
    "    list_len = len(li)\n",
    "    for i in range(list_len-1):\n",
    "        #i 전까지는 최소값들로 정렬된 상태\n",
    "        minIdx = i\n",
    "        for j in range(i+1, list_len):\n",
    "            #만약 minIdx의 값이 j보다 크다면 최소값이 아니므로\n",
    "            #minIdx를 j로 갱신한다\n",
    "            if li[minIdx] > li[j]:\n",
    "                minIdx = j\n",
    "        li[minIdx], li[i] = li[i], li[minIdx]\n",
    "\n",
    "if __name__ == \"__main__\":\n",
    "    li = [4, 6, 1, 7, 2, 8, 3, 5, 9, 10, 12, 11]\n",
    "    SelectionSort(li)\n",
    "    print(li)"
   ]
  },
  {
   "cell_type": "code",
   "execution_count": null,
   "metadata": {
    "collapsed": true
   },
   "outputs": [],
   "source": []
  }
 ],
 "metadata": {
  "kernelspec": {
   "display_name": "Python 3",
   "language": "python",
   "name": "python3"
  },
  "language_info": {
   "codemirror_mode": {
    "name": "ipython",
    "version": 3
   },
   "file_extension": ".py",
   "mimetype": "text/x-python",
   "name": "python",
   "nbconvert_exporter": "python",
   "pygments_lexer": "ipython3",
   "version": "3.6.0"
  }
 },
 "nbformat": 4,
 "nbformat_minor": 2
}
