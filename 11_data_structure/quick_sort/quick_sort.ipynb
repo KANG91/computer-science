{
 "cells": [
  {
   "cell_type": "markdown",
   "metadata": {
    "deletable": true,
    "editable": true
   },
   "source": [
    "# 퀵소트 구현 "
   ]
  },
  {
   "cell_type": "code",
   "execution_count": 6,
   "metadata": {
    "collapsed": false,
    "deletable": true,
    "editable": true
   },
   "outputs": [
    {
     "name": "stdout",
     "output_type": "stream",
     "text": [
      "[1, 2, 3, 4, 5, 5, 5, 6, 6, 7, 8, 9, 10, 11, 12]\n"
     ]
    }
   ],
   "source": [
    "# 파티션 (pivot)\n",
    "\n",
    "def partition(data, start, end):\n",
    "    pivot = data[start]\n",
    "    \n",
    "    low = start + 1 \n",
    "    high = end\n",
    "    \n",
    "    # low와 high 가 반드시 교차해야한다. (중요)\n",
    "    while low <= high:\n",
    "        while low <= end and data[low] <= pivot:\n",
    "            low += 1\n",
    "        \n",
    "        while high >= (start + 1) and data[high] >= pivot:\n",
    "            high -= 1\n",
    "            \n",
    "        if low <= high:\n",
    "            data[low], data[high] = data[high], data[low]\n",
    "            \n",
    "    data[start], data[high] = data[high], data[start]\n",
    "    \n",
    "    return high\n",
    "\n",
    "def quick_sort(data, start, end):\n",
    "    if start >= end: \n",
    "        return \n",
    "    \n",
    "    idx_pivot = partition(data, start, end)\n",
    "    \n",
    "    quick_sort(data, start, idx_pivot - 1)\n",
    "    quick_sort(data, idx_pivot + 1, end)\n",
    "\n",
    "    \n",
    "\n",
    "\n",
    "if __name__ == \"__main__\":\n",
    "    li = [2, 5, 4, 1, 8, 10, 5, 3, 6, 6, 5, 7, 9, 12, 11]\n",
    "\n",
    "    #정렬된 리스트에서의 성능 평가를 위한 리스트\n",
    "    #li = [1, 2, 3, 4, 5, 6, 7, 8, 9, 10, 11, 12, 13, 14]\n",
    "    \n",
    "    quick_sort(li, 0, len(li)-1)\n",
    "\n",
    "    print(li)\n",
    "\n",
    "    "
   ]
  },
  {
   "cell_type": "code",
   "execution_count": null,
   "metadata": {
    "collapsed": true,
    "deletable": true,
    "editable": true
   },
   "outputs": [],
   "source": []
  }
 ],
 "metadata": {
  "kernelspec": {
   "display_name": "Python 3",
   "language": "python",
   "name": "python3"
  },
  "language_info": {
   "codemirror_mode": {
    "name": "ipython",
    "version": 3
   },
   "file_extension": ".py",
   "mimetype": "text/x-python",
   "name": "python",
   "nbconvert_exporter": "python",
   "pygments_lexer": "ipython3",
   "version": "3.6.0"
  }
 },
 "nbformat": 4,
 "nbformat_minor": 2
}
