{
 "cells": [
  {
   "cell_type": "code",
   "execution_count": 4,
   "metadata": {
    "collapsed": false,
    "deletable": true,
    "editable": true,
    "scrolled": false
   },
   "outputs": [
    {
     "name": "stdout",
     "output_type": "stream",
     "text": [
      "수식을 입력하세요: 1 +2\n"
     ]
    },
    {
     "ename": "NameError",
     "evalue": "name 'convert_to_postfix' is not defined",
     "output_type": "error",
     "traceback": [
      "\u001b[0;31m---------------------------------------------------------------------------\u001b[0m",
      "\u001b[0;31mNameError\u001b[0m                                 Traceback (most recent call last)",
      "\u001b[0;32m<ipython-input-4-66e387f4fd62>\u001b[0m in \u001b[0;36m<module>\u001b[0;34m()\u001b[0m\n\u001b[1;32m     84\u001b[0m     \u001b[0ma\u001b[0m \u001b[0;34m=\u001b[0m \u001b[0minput\u001b[0m\u001b[0;34m(\u001b[0m\u001b[0;34m'수식을 입력하세요: '\u001b[0m\u001b[0;34m)\u001b[0m\u001b[0;34m\u001b[0m\u001b[0m\n\u001b[1;32m     85\u001b[0m     \u001b[0mcalc\u001b[0m \u001b[0;34m=\u001b[0m \u001b[0mCalculator\u001b[0m\u001b[0;34m(\u001b[0m\u001b[0ma\u001b[0m\u001b[0;34m)\u001b[0m\u001b[0;34m\u001b[0m\u001b[0m\n\u001b[0;32m---> 86\u001b[0;31m     \u001b[0mcalc\u001b[0m \u001b[0;34m=\u001b[0m \u001b[0mconvert_to_postfix\u001b[0m\u001b[0;34m(\u001b[0m\u001b[0;34m)\u001b[0m\u001b[0;34m\u001b[0m\u001b[0m\n\u001b[0m\u001b[1;32m     87\u001b[0m     \u001b[0mprint\u001b[0m\u001b[0;34m(\u001b[0m\u001b[0mcalc\u001b[0m\u001b[0;34m.\u001b[0m\u001b[0mpostfix_exp\u001b[0m\u001b[0;34m)\u001b[0m\u001b[0;34m\u001b[0m\u001b[0m\n\u001b[1;32m     88\u001b[0m     \u001b[0mprint\u001b[0m\u001b[0;34m(\u001b[0m\u001b[0mcalc\u001b[0m\u001b[0;34m.\u001b[0m\u001b[0mcalculate\u001b[0m\u001b[0;34m(\u001b[0m\u001b[0;34m)\u001b[0m\u001b[0;34m)\u001b[0m\u001b[0;34m\u001b[0m\u001b[0m\n",
      "\u001b[0;31mNameError\u001b[0m: name 'convert_to_postfix' is not defined"
     ]
    }
   ],
   "source": [
    "from stack import Stack\n",
    "\n",
    "class Calculator:\n",
    "    def __init__(self, org_exp): # org_exp 중위표기법\n",
    "        self.org_exp = org_exp.replace(' ', '') \n",
    "        self.postfix_exp = None # class 생성시 필요한 멤버변수는 None을 넣더라도 생성자에서 정의하는게 좋다. \n",
    "\n",
    "#     @classmethod  이것도 좋은 아이디어\n",
    "    def get_weight(self, oprt):\n",
    "        if oprt == '*' or oprt == '/':\n",
    "            return 9\n",
    "        elif oprt == '+' or oprt == '-':\n",
    "            return 7\n",
    "        elif oprt == '(':\n",
    "            return 5\n",
    "        else:\n",
    "            return None\n",
    "        \n",
    "    def convert_to_postfix(self):\n",
    "        exp_list = []\n",
    "        oprt_stack = Stack\n",
    "    \n",
    "        for ch in self.org_exp:\n",
    "            if ch.isdigit(): #숫자인지 확인\n",
    "                exp_list.append(ch)\n",
    "            # 연산자 문자 '(', ')', '+', '-', '*', '/'\n",
    "            \n",
    "            else: #연산자 문자열의 처음 시작\n",
    "                # '(' or oprt_stack 비어있다면 그냥 넣는다. \n",
    "                if ch == '(' or not oprt_stack:\n",
    "                    oprt_stack.push(ch)\n",
    "                # ')', '+, -, * /'\n",
    "                else:\n",
    "                    if ch == ')':\n",
    "                        op = oprt_stack.pop()\n",
    "                        while op != '(':\n",
    "                            exp_list.append(op)\n",
    "                            op = oprt_stack.pop()\n",
    "                            \n",
    "                    # '+, -, * /' 연산자 처리         \n",
    "                    else:\n",
    "                        if self.get_weight(ch) > self.get_weight(oprt_stack.peek()):\n",
    "                            oprt_stack.push(ch)\n",
    "                        # 추가되는 연산자가 최상위 연산자보다 작거나 같을 때     \n",
    "                        else:\n",
    "                            while oprt_stack and self.get_weight(ch) <= self.get_weight(oprt_stack.peek()):\n",
    "                                exp_list.append(oprt_stack.pop())\n",
    "                        \n",
    "        while oprt_stack:\n",
    "            exp_list.append(oprt_stack.pop)\n",
    "        \n",
    "        self.postfix_exp = ''.join(exp_list)\n",
    "\n",
    "        \n",
    "    def calc_two_oprd(self, oprd1, oprd2, oprt):\n",
    "        if oprt == '+':\n",
    "            return oprd1 + oprd2\n",
    "        elif oprt == '-':\n",
    "            return oprd1 - oprd2\n",
    "        elif oprt == '*':\n",
    "            return oprd1 * oprd2\n",
    "        elif oprt == '*/':\n",
    "            return oprd1 // oprd2\n",
    "\n",
    "    def calculate(self):\n",
    "        oprd_stack = Stack()\n",
    "        \n",
    "        for ch in self.postfix_exp:\n",
    "            if ch.isdigit():\n",
    "                oprd_stack.push(int(ch))\n",
    "            # '+-*/' 연산자 처리 \n",
    "            else:\n",
    "                oprd2 = oprd_stack.pop()\n",
    "                oprd1 = oprd_stack.pop()\n",
    "                oprd_stack.push = self.calc_two_oprd(oprd1, oprd2, ch)\n",
    "                \n",
    "        return oprd_stack.pop()\n",
    "            \n",
    "        \n",
    "            \n",
    "        \n",
    "# 기능하나 구현하면 꼭 확인하기 \n",
    "if __name__ == '__main__':\n",
    "    a = input('수식을 입력하세요: ')\n",
    "    calc = Calculator(a)\n",
    "    calc = convert_to_postfix()\n",
    "    print(calc.postfix_exp)\n",
    "    print(calc.calculate())"
   ]
  },
  {
   "cell_type": "code",
   "execution_count": null,
   "metadata": {
    "collapsed": true,
    "deletable": true,
    "editable": true
   },
   "outputs": [],
   "source": []
  }
 ],
 "metadata": {
  "kernelspec": {
   "display_name": "Python 3",
   "language": "python",
   "name": "python3"
  },
  "language_info": {
   "codemirror_mode": {
    "name": "ipython",
    "version": 3
   },
   "file_extension": ".py",
   "mimetype": "text/x-python",
   "name": "python",
   "nbconvert_exporter": "python",
   "pygments_lexer": "ipython3",
   "version": "3.6.0"
  }
 },
 "nbformat": 4,
 "nbformat_minor": 2
}
