{
 "cells": [
  {
   "cell_type": "markdown",
   "metadata": {
    "deletable": true,
    "editable": true
   },
   "source": [
    "# stack 구현예시 (Node 사용)"
   ]
  },
  {
   "cell_type": "code",
   "execution_count": 42,
   "metadata": {
    "collapsed": true,
    "deletable": true,
    "editable": true
   },
   "outputs": [],
   "source": [
    "class Node:\n",
    "    def __init__(self, data):\n",
    "        self.data = data \n",
    "        self.next = None \n",
    "\n",
    "class Stack:\n",
    "    def __init__(self):\n",
    "        self.head = None\n",
    "        \n",
    "    def push(self, data):\n",
    "        new_data = Node(data)\n",
    "        new_data.next = self.head\n",
    "        self.head = new_data\n",
    "    \n",
    "    def pop(self):\n",
    "        if self.head == None:\n",
    "            return None\n",
    "        \n",
    "        pop_data = self.head   \n",
    "        self.head = pop_data.next\n",
    "        \n",
    "        return pop_data.data\n",
    "    \n",
    "    def peek(self):\n",
    "        if self.head:\n",
    "            return self.head.data\n",
    "        else:\n",
    "            return None\n",
    "    def is_empty(self):\n",
    "        if self.head == None:\n",
    "            return True\n",
    "        else:\n",
    "            return False\n",
    "            \n",
    "#    나머지 직접 만들어보기 "
   ]
  },
  {
   "cell_type": "code",
   "execution_count": 43,
   "metadata": {
    "collapsed": false,
    "deletable": true,
    "editable": true
   },
   "outputs": [
    {
     "name": "stdout",
     "output_type": "stream",
     "text": [
      "3\n",
      "3 2 1 "
     ]
    }
   ],
   "source": [
    "if __name__ == '__main__':\n",
    "    s = Stack()\n",
    "    s.push(1)\n",
    "    s.push(2)\n",
    "    s.push(3)\n",
    "    \n",
    "    print(s.peek())\n",
    "    while not s.is_empty():\n",
    "        data = s.pop()\n",
    "        print(data, end=' ')"
   ]
  },
  {
   "cell_type": "code",
   "execution_count": 45,
   "metadata": {
    "collapsed": false
   },
   "outputs": [
    {
     "name": "stdout",
     "output_type": "stream",
     "text": [
      "None\n"
     ]
    }
   ],
   "source": [
    "print(s.peek())"
   ]
  },
  {
   "cell_type": "markdown",
   "metadata": {
    "deletable": true,
    "editable": true
   },
   "source": [
    "# queue 구현예시 (Node 사용)"
   ]
  },
  {
   "cell_type": "code",
   "execution_count": 81,
   "metadata": {
    "collapsed": true,
    "deletable": true,
    "editable": true
   },
   "outputs": [],
   "source": [
    "class Node:\n",
    "  def __init__(self, data):\n",
    "    self.data = data\n",
    "    self.next = None\n",
    "\n",
    "class LinkedQueue:\n",
    "  def __init__(self):\n",
    "    self.head = None\n",
    "    self.tail = None\n",
    "\n",
    "  def enqueue(self, data): # insert\n",
    "    new_node = Node(data)\n",
    "\n",
    "    if self.head == None: # 빈 queue에 처음 노드를 추가할 때\n",
    "      self.head = new_node\n",
    "      self.tail = new_node\n",
    "\n",
    "    new_node.next = self.head\n",
    "    self.tail = new_node\n",
    "\n",
    "  def dequeue(self): # delete\n",
    "    if self.is_empty():\n",
    "      return None\n",
    "\n",
    "    elif self.head == self.tail:\n",
    "      data = self.head.data\n",
    "      self.head = None\n",
    "      self.tail = None\n",
    "      return data\n",
    "\n",
    "    else:\n",
    "      data = self.head.data\n",
    "      self.head = self.head.next\n",
    "      return data\n",
    "\n",
    "  def peek(self): # head data 확인\n",
    "    if self.head:\n",
    "      return self.head.data\n",
    "    else:\n",
    "      return None\n",
    "\n",
    "  def is_empty(self): # 데이터가 있는지  없는지 확인\n",
    "    if self.head == None:\n",
    "      return True\n",
    "    else:\n",
    "      return False\n"
   ]
  },
  {
   "cell_type": "code",
   "execution_count": null,
   "metadata": {
    "collapsed": true
   },
   "outputs": [],
   "source": [
    "if __name__ == '__main__':\n",
    "    q = LinkedQueue()\n",
    "    \n",
    "    q.enqueue(1)\n",
    "    q.enqueue(3)\n",
    "    q.enqueue(5)\n",
    "    q.enqueue(7)\n",
    "    q.enqueue(10)"
   ]
  },
  {
   "cell_type": "code",
   "execution_count": 84,
   "metadata": {
    "collapsed": false
   },
   "outputs": [
    {
     "data": {
      "text/plain": [
       "False"
      ]
     },
     "execution_count": 84,
     "metadata": {},
     "output_type": "execute_result"
    }
   ],
   "source": [
    "q.is_empty()"
   ]
  },
  {
   "cell_type": "code",
   "execution_count": null,
   "metadata": {
    "collapsed": true
   },
   "outputs": [],
   "source": [
    "while not q.is_empty():\n",
    "    data = q.dequeue()\n",
    "    print(data, end= ' ')"
   ]
  }
 ],
 "metadata": {
  "kernelspec": {
   "display_name": "Python 3",
   "language": "python",
   "name": "python3"
  },
  "language_info": {
   "codemirror_mode": {
    "name": "ipython",
    "version": 3
   },
   "file_extension": ".py",
   "mimetype": "text/x-python",
   "name": "python",
   "nbconvert_exporter": "python",
   "pygments_lexer": "ipython3",
   "version": "3.6.0"
  }
 },
 "nbformat": 4,
 "nbformat_minor": 2
}
