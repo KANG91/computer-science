{
 "cells": [
  {
   "cell_type": "code",
   "execution_count": 3,
   "metadata": {
    "collapsed": true,
    "deletable": true,
    "editable": true
   },
   "outputs": [],
   "source": [
    "from stack import Stack"
   ]
  },
  {
   "cell_type": "code",
   "execution_count": 6,
   "metadata": {
    "collapsed": false,
    "deletable": true,
    "editable": true
   },
   "outputs": [
    {
     "name": "stdout",
     "output_type": "stream",
     "text": [
      "32+23*-\n",
      "-1\n"
     ]
    }
   ],
   "source": [
    "class Calculator: \n",
    "    def __init__(self, org_exp): # org_exp : 중위표기법\n",
    "        self.org_exp = org_exp.replace(' ', '')\n",
    "        self.postfix_exp = None\n",
    "    \n",
    "    # 우선순위 정의 메소드\n",
    "    def get_weight(self, oprt):\n",
    "        if oprt == '*' or oprt == '/':\n",
    "            return 9\n",
    "        elif oprt == '+' or oprt == '-':\n",
    "            return 7\n",
    "        elif oprt == '(':\n",
    "            return 5\n",
    "        else:\n",
    "            return None\n",
    "        \n",
    "    # 후위표기법으로 변경하는 메소드 \n",
    "    def convert_to_postfix(self):\n",
    "        exp_list = []\n",
    "        oprt_stack = Stack()\n",
    "    \n",
    "        # switch 문으로 좀 더 깔끔하게 짤 수 있다. elif 로 다시 수정해보기 \n",
    "        for ch in self.org_exp: \n",
    "            if ch.isdigit():\n",
    "                exp_list.append(ch)\n",
    "            else: # 연산자인 경우 > elif 로 다시짜기\n",
    "                if ch == '(' or oprt_stack.is_empty(): \n",
    "                    oprt_stack.push(ch)\n",
    "                else:\n",
    "                    if ch == ')':\n",
    "                        op = oprt_stack.pop()\n",
    "                        while op != '(':\n",
    "                            exp_list.append(op)\n",
    "                            op = oprt_stack.pop()\n",
    "                    else:\n",
    "                        if self.get_weight(ch) > self.get_weight(oprt_stack.peek()):\n",
    "                            oprt_stack.push(ch)\n",
    "                        else:\n",
    "                            while oprt_stack and self.get_weight(ch) <= self.get_weight(oprt_stack.peek()):\n",
    "                                exp_list.append(oprt_stack.pop())\n",
    "                            oprt_stack.push(ch)\n",
    "                            \n",
    "        while oprt_stack: # 스택에 남은 요소 모두 리스트로 \n",
    "            exp_list.append(oprt_stack.pop())\n",
    "\n",
    "        self.postfix_exp = ''.join(exp_list)\n",
    "        return self.postfix_exp\n",
    "    \n",
    "    \n",
    "    # 연산 메소드\n",
    "    def calc_two_oprd(self, oprd1, oprd2, oprt):\n",
    "        if oprt == '+':\n",
    "            return oprd1 + oprd2\n",
    "        elif oprt == '-':\n",
    "            return oprd1 - oprd2 \n",
    "        elif oprt == '*':\n",
    "            return oprd1 * oprd2 \n",
    "        elif oprt == '/':\n",
    "            return oprd1 // oprd2 \n",
    "    \n",
    "    \n",
    "    \n",
    "    # 후위표기법 문자열을 받아서 연산한 결과를 리턴\n",
    "    def calculate(self):\n",
    "        # stack을 이용해서 구현하고 있지만, 트리를 사용하는 등 다양한 방식이 있다. \n",
    "        # 후위표기법을 활용한 계산기 구현시 stack을 많이 사용하여 연습하는 편이다. \n",
    "        oprd_stack = Stack()\n",
    "        \n",
    "        \n",
    "        for ch in self.postfix_exp: \n",
    "            if ch.isdigit():\n",
    "                oprd_stack.push(int(ch))\n",
    "            else:\n",
    "                oprd2 = oprd_stack.pop()\n",
    "                oprd1 = oprd_stack.pop()\n",
    "                oprd_stack.push(self.calc_two_oprd(oprd1, oprd2, ch))\n",
    "        return oprd_stack.pop()\n",
    "            \n",
    "\n",
    "if __name__ == \"__main__\":\n",
    "    calc = Calculator(\"(3 + 2) - 2 * 3\") # 임시로 값 넣기\n",
    "    print(calc.convert_to_postfix())\n",
    "    print(calc.calculate()) # 답은 -1"
   ]
  },
  {
   "cell_type": "code",
   "execution_count": null,
   "metadata": {
    "collapsed": true,
    "deletable": true,
    "editable": true
   },
   "outputs": [],
   "source": []
  }
 ],
 "metadata": {
  "kernelspec": {
   "display_name": "Python 3",
   "language": "python",
   "name": "python3"
  },
  "language_info": {
   "codemirror_mode": {
    "name": "ipython",
    "version": 3
   },
   "file_extension": ".py",
   "mimetype": "text/x-python",
   "name": "python",
   "nbconvert_exporter": "python",
   "pygments_lexer": "ipython3",
   "version": "3.6.0"
  }
 },
 "nbformat": 4,
 "nbformat_minor": 2
}
