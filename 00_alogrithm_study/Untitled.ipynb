{
 "cells": [
  {
   "cell_type": "code",
   "execution_count": 48,
   "metadata": {
    "collapsed": false
   },
   "outputs": [
    {
     "name": "stdout",
     "output_type": "stream",
     "text": [
      "1111\n",
      "[0, 1, 2, 3]\n",
      "확인 : 0\n",
      "10000010001\n",
      "[0, 6, 10]\n",
      "확인 : 5\n"
     ]
    }
   ],
   "source": [
    "def solution(N):\n",
    "    N = str(bin(N)[2:])\n",
    "    print(N) # 이진수 확인\n",
    "    arr = []\n",
    "    for idx, value in enumerate(N):        \n",
    "        if value == '1':\n",
    "            arr.append(idx)\n",
    "    \n",
    "    print(arr) # 1 인덱스 확인\n",
    "    arr2 = [] \n",
    "    \n",
    "    for i in range(len(arr)-1):\n",
    "        arr2.append(arr[i+1] - arr[i] - 1)\n",
    "    \n",
    "    print('확인 :', max(arr2)) # 리턴값 확인\n",
    "    return max(arr2)\n",
    "        \n",
    "\n",
    "if __name__ == '__main__':\n",
    "    solution(15)\n",
    "    solution(1041)"
   ]
  },
  {
   "cell_type": "code",
   "execution_count": 49,
   "metadata": {
    "collapsed": true
   },
   "outputs": [],
   "source": [
    "# you can write to stdout for debugging purposes, e.g.\n",
    "# print \"this is a debug message\"\n",
    "\n",
    "\n",
    "def solution(N):\n",
    "    N = str(bin(N)[2:])\n",
    "    arr = []\n",
    "    \n",
    "    for idx, value in enumerate(N):        \n",
    "        if value == '1':\n",
    "            arr.append(idx)\n",
    "            \n",
    "    arr2 = []     \n",
    "    \n",
    "    for i in range(len(arr)-1):\n",
    "        arr2.append(arr[i+1] - arr[i] - 1)\n",
    "    \n",
    "    return max(arr2)\n",
    "    "
   ]
  },
  {
   "cell_type": "code",
   "execution_count": null,
   "metadata": {
    "collapsed": true
   },
   "outputs": [],
   "source": []
  }
 ],
 "metadata": {
  "kernelspec": {
   "display_name": "Python 3",
   "language": "python",
   "name": "python3"
  },
  "language_info": {
   "codemirror_mode": {
    "name": "ipython",
    "version": 3
   },
   "file_extension": ".py",
   "mimetype": "text/x-python",
   "name": "python",
   "nbconvert_exporter": "python",
   "pygments_lexer": "ipython3",
   "version": "3.6.0"
  }
 },
 "nbformat": 4,
 "nbformat_minor": 2
}
