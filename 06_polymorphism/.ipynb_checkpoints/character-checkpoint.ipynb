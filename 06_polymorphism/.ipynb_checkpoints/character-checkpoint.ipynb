{
 "cells": [
  {
   "cell_type": "code",
   "execution_count": null,
   "metadata": {
    "collapsed": true
   },
   "outputs": [],
   "source": [
    "# abstract_class : 객체를 만들 수 없는 클래스 (기본클래스, 부모클래스의 역할)\n",
    "\n",
    "from abc import * #abstract base class \n",
    "\n",
    "class Character(metaclass = ABCMeta): \n",
    "    def __init__(self):\n",
    "        self.hp = 100\n",
    "        self.attack_power = 20\n",
    "    \n",
    "    def attack(self, other, attack_kind):\n",
    "        other.get_damage(self.attack_power, attack_kind)\n",
    "        \n",
    "    \n",
    "    # 나를 상속받는 모든 클래스는 get_damage라는 함수를 오버라이딩으로 구현해야 너는 인스턴스를 만들 수 있다. \n",
    "    @abstractmethod \n",
    "    def get_damage(self, )"
   ]
  }
 ],
 "metadata": {
  "kernelspec": {
   "display_name": "Python 3",
   "language": "python",
   "name": "python3"
  },
  "language_info": {
   "codemirror_mode": {
    "name": "ipython",
    "version": 3
   },
   "file_extension": ".py",
   "mimetype": "text/x-python",
   "name": "python",
   "nbconvert_exporter": "python",
   "pygments_lexer": "ipython3",
   "version": "3.6.0"
  }
 },
 "nbformat": 4,
 "nbformat_minor": 2
}
