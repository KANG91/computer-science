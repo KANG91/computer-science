{
 "cells": [
  {
   "cell_type": "code",
   "execution_count": 38,
   "metadata": {
    "collapsed": false
   },
   "outputs": [
    {
     "name": "stdout",
     "output_type": "stream",
     "text": [
      "(1, 'fastcampus', 3, 'python')\n",
      "(2, 'siwa', 25, 'c')\n",
      "(3, 'sunshine', 23, 'facebook')\n",
      "(4, 'siwa', 25, 'c')\n",
      "(5, 'sunshine', 23, 'facebook')\n",
      "(6, 'siwa', 25, 'c')\n",
      "(7, 'sunshine', 23, 'facebook')\n"
     ]
    }
   ],
   "source": [
    "import sqlite3 as lite\n",
    "\n",
    "conn = lite.connect('user.db')\n",
    "\n",
    "\n",
    "cursor = conn.cursor()\n",
    "cursor.execute(\"SELECT * FROM user\")\n",
    "rows = cursor.fetchall()\n",
    "\n",
    "for row in rows:\n",
    "    print(row)\n",
    "    \n"
   ]
  },
  {
   "cell_type": "code",
   "execution_count": 39,
   "metadata": {
    "collapsed": false
   },
   "outputs": [
    {
     "name": "stdout",
     "output_type": "stream",
     "text": [
      "(1, 'fastcampus', 3, 'python')\n",
      "(2, 'siwa', 25, 'c')\n",
      "(3, 'sunshine', 23, 'facebook')\n",
      "(4, 'siwa', 25, 'c')\n",
      "(5, 'sunshine', 23, 'facebook')\n",
      "(6, 'siwa', 25, 'c')\n",
      "(7, 'sunshine', 23, 'facebook')\n",
      "(8, 'siwa', 25, 'c')\n",
      "(9, 'sunshine', 23, 'facebook')\n"
     ]
    }
   ],
   "source": [
    "cursor = conn.cursor()\n",
    "cursor.execute(\"INSERT INTO user (name, age, lang) VALUES ('siwa', 25, 'c')\")\n",
    "cursor.execute(\"INSERT INTO user (name, age, lang) VALUES ('sunshine', 23, 'facebook')\")\n",
    "\n",
    "cursor.execute(\"SELECT * FROM user\")\n",
    "rows = cursor.fetchall()\n",
    "\n",
    "for row in rows:\n",
    "    print(row)\n",
    "\n",
    "conn.commit()\n",
    "conn.close()"
   ]
  },
  {
   "cell_type": "code",
   "execution_count": 40,
   "metadata": {
    "collapsed": false
   },
   "outputs": [
    {
     "name": "stdout",
     "output_type": "stream",
     "text": [
      "id =  1\n",
      "name =  fastcampus\n",
      "age =  3\n",
      "lang =  python\n",
      "id =  2\n",
      "name =  siwa\n",
      "age =  25\n",
      "lang =  c\n",
      "id =  3\n",
      "name =  sunshine\n",
      "age =  23\n",
      "lang =  facebook\n",
      "id =  4\n",
      "name =  siwa\n",
      "age =  25\n",
      "lang =  c\n",
      "id =  5\n",
      "name =  sunshine\n",
      "age =  23\n",
      "lang =  facebook\n",
      "id =  6\n",
      "name =  siwa\n",
      "age =  25\n",
      "lang =  c\n",
      "id =  7\n",
      "name =  sunshine\n",
      "age =  23\n",
      "lang =  facebook\n",
      "id =  8\n",
      "name =  siwa\n",
      "age =  25\n",
      "lang =  c\n",
      "id =  9\n",
      "name =  sunshine\n",
      "age =  23\n",
      "lang =  facebook\n"
     ]
    }
   ],
   "source": [
    "conn = lite.connect('user.db')\n",
    "\n",
    "with conn: #fechall() 이 따로 필요 없다. \n",
    "    cursor = conn.execute(\"select id, name, age, lang from user\")\n",
    "    for row in cursor:\n",
    "        print(\"id = \", row[0])\n",
    "        print(\"name = \", row[1])\n",
    "        print(\"age = \", row[2])\n",
    "        print(\"lang = \", row[3])\n",
    "        \n",
    "conn.close()"
   ]
  },
  {
   "cell_type": "code",
   "execution_count": 41,
   "metadata": {
    "collapsed": true
   },
   "outputs": [],
   "source": [
    "conn = lite.connect('user.db')\n",
    "cursor = conn.cursor()\n",
    "\n",
    "with conn:\n",
    "    conn.execute(\"UPDATE user SET lang = 'Python' WHERE id = 2\") \n",
    "    conn.commit()\n",
    "    \n",
    "conn.close()"
   ]
  },
  {
   "cell_type": "code",
   "execution_count": 42,
   "metadata": {
    "collapsed": false
   },
   "outputs": [
    {
     "name": "stdout",
     "output_type": "stream",
     "text": [
      "id =  1\n",
      "name =  fastcampus\n",
      "age =  3\n",
      "lang =  python\n",
      "id =  2\n",
      "name =  siwa\n",
      "age =  25\n",
      "lang =  Python\n",
      "id =  3\n",
      "name =  sunshine\n",
      "age =  23\n",
      "lang =  facebook\n",
      "id =  4\n",
      "name =  siwa\n",
      "age =  25\n",
      "lang =  c\n",
      "id =  5\n",
      "name =  sunshine\n",
      "age =  23\n",
      "lang =  facebook\n",
      "id =  6\n",
      "name =  siwa\n",
      "age =  25\n",
      "lang =  c\n",
      "id =  7\n",
      "name =  sunshine\n",
      "age =  23\n",
      "lang =  facebook\n",
      "id =  8\n",
      "name =  siwa\n",
      "age =  25\n",
      "lang =  c\n",
      "id =  9\n",
      "name =  sunshine\n",
      "age =  23\n",
      "lang =  facebook\n"
     ]
    }
   ],
   "source": [
    "conn = lite.connect('user.db')\n",
    "cursor = conn.cursor()\n",
    "with conn:\n",
    "    cursor = conn.execute(\"select id, name, age, lang from user\")\n",
    "    for row in cursor:\n",
    "        print(\"id = \", row[0])\n",
    "        print(\"name = \", row[1])\n",
    "        print(\"age = \", row[2])\n",
    "        print(\"lang = \", row[3])\n",
    "        \n",
    "conn.close()"
   ]
  },
  {
   "cell_type": "code",
   "execution_count": null,
   "metadata": {
    "collapsed": true
   },
   "outputs": [],
   "source": [
    "conn = lite.connect('user.db')\n",
    "\n",
    "with conn:\n",
    "    conn.execute(\"\") # Delete some row\n",
    "\n",
    "conn.commit()\n",
    "conn.close()"
   ]
  }
 ],
 "metadata": {
  "kernelspec": {
   "display_name": "Python 3",
   "language": "python",
   "name": "python3"
  },
  "language_info": {
   "codemirror_mode": {
    "name": "ipython",
    "version": 3
   },
   "file_extension": ".py",
   "mimetype": "text/x-python",
   "name": "python",
   "nbconvert_exporter": "python",
   "pygments_lexer": "ipython3",
   "version": "3.6.0"
  }
 },
 "nbformat": 4,
 "nbformat_minor": 2
}
