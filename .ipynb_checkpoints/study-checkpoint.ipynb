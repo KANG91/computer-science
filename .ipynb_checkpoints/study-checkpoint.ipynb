{
 "cells": [
  {
   "cell_type": "code",
   "execution_count": 7,
   "metadata": {
    "collapsed": false
   },
   "outputs": [],
   "source": [
    "# 부모 : 자식이 모두 가지는 공통된 속성(attribute)을 모두 여기에서 정의\n",
    "class Computer: \n",
    "    def __init__(self, cpu, ram):\n",
    "        self.cpu = cpu\n",
    "        self.ram = ram\n",
    "        \n",
    "    def calculate(self):\n",
    "        print('컴퓨터 계산중')\n",
    "        \n",
    "    def __str__(self):\n",
    "        return '나는 컴퓨터입니다. '\n",
    "    \n",
    "\n",
    "# 부모클래스 computer를 상속받은 Laptop 클래스 정의 \n",
    "class Notebook(Computer):\n",
    "    def __init__(self, cpu, ram, touch='normal', cam='small'):\n",
    "        # 1. 클래스 이름으로 접근 \n",
    "        Computer.__init__(self, cpu, ram)\n",
    "        self.touch = touch\n",
    "        self.cam = cam\n",
    "        \n",
    "    def calculate(self): # 오버라이딩  - 같은 이름의 함수가 있으면 자식의 함수가 우선\n",
    "        print('노트북 계산중')\n",
    "        \n",
    "    def __str__(self):\n",
    "        return super(Notebook, self).__str__() + '그리고 난 노트북이죠!'\n",
    "    \n",
    "\n",
    "class Desktop(Computer):\n",
    "    def __init__(self, cpu, ram,  external_graphic = \"Geforce\"):\n",
    "        # 2. super()로 접근 \n",
    "        super(Desktop, self).__init__(cpu, ram)\n",
    "        # super(type, obj) -> bound super object; requires isinstance(obj, type)\n",
    "        self.external_graphic = external_graphic\n",
    "        \n",
    "    def calculate(self): # 오버라이딩\n",
    "        print('데스크탑 계산중')\n",
    "        \n",
    "    def __str__(self):\n",
    "        return super().__str__() + '그리고 난 데스크탑이죠!'"
   ]
  },
  {
   "cell_type": "code",
   "execution_count": 9,
   "metadata": {
    "collapsed": false
   },
   "outputs": [
    {
     "name": "stdout",
     "output_type": "stream",
     "text": [
      "나는 컴퓨터입니다. 그리고 난 노트북이죠!\n"
     ]
    }
   ],
   "source": [
    "com1 = Notebook('i5', '16G') # Notebook 클래스의 인스턴스 생성\n",
    "print(com1)"
   ]
  },
  {
   "cell_type": "code",
   "execution_count": 10,
   "metadata": {
    "collapsed": false
   },
   "outputs": [
    {
     "name": "stdout",
     "output_type": "stream",
     "text": [
      "노트북 계산중\n"
     ]
    }
   ],
   "source": [
    "com1.calculate() # 오버라이딩으로 인한 자식 함수 호출"
   ]
  },
  {
   "cell_type": "code",
   "execution_count": 11,
   "metadata": {
    "collapsed": false
   },
   "outputs": [
    {
     "name": "stdout",
     "output_type": "stream",
     "text": [
      "나는 컴퓨터입니다. 그리고 난 데스크탑이죠!\n"
     ]
    }
   ],
   "source": [
    "com2 = Desktop('i5', '8G')\n",
    "print(com2)"
   ]
  },
  {
   "cell_type": "code",
   "execution_count": 12,
   "metadata": {
    "collapsed": false
   },
   "outputs": [
    {
     "name": "stdout",
     "output_type": "stream",
     "text": [
      "데스크탑 계산중\n"
     ]
    }
   ],
   "source": [
    "com2.calculate()"
   ]
  },
  {
   "cell_type": "code",
   "execution_count": 13,
   "metadata": {
    "collapsed": true
   },
   "outputs": [],
   "source": [
    "super??"
   ]
  },
  {
   "cell_type": "code",
   "execution_count": 14,
   "metadata": {
    "collapsed": true
   },
   "outputs": [],
   "source": [
    "class Gun:\n",
    "    def __init__(self, kind):\n",
    "        self.kind = kind\n",
    "        \n",
    "    def bang(self):\n",
    "        print('빵야빵야')"
   ]
  },
  {
   "cell_type": "code",
   "execution_count": null,
   "metadata": {
    "collapsed": true
   },
   "outputs": [],
   "source": [
    "# 객체합성\n",
    "class Police():\n",
    "    def __init__(self, gun_kind=''):\n",
    "        if gun_kind:\n",
    "            self.gun = Gun(gun_kind) # Gun클래스의 인스턴스객체를 생성하여 Police의 인스턴스 멤버로 할당한다.)\n",
    "        else:\n",
    "            self.gun = None #gun이라는 인스턴스 멤버는 있지만 값은 없는 상태\n",
    "    \n",
    "    def get_gun(self, gun_kind):\n",
    "        self.gun = Gun(gun_kind)\n",
    "        \n",
    "    def shoot(self):\n",
    "        if self.gun:\n",
    "            self.gun.bang()\n",
    "        else:\n",
    "            print('당신에게는 총이 없습니다.')"
   ]
  }
 ],
 "metadata": {
  "kernelspec": {
   "display_name": "Python 3",
   "language": "python",
   "name": "python3"
  },
  "language_info": {
   "codemirror_mode": {
    "name": "ipython",
    "version": 3
   },
   "file_extension": ".py",
   "mimetype": "text/x-python",
   "name": "python",
   "nbconvert_exporter": "python",
   "pygments_lexer": "ipython3",
   "version": "3.6.0"
  }
 },
 "nbformat": 4,
 "nbformat_minor": 2
}
