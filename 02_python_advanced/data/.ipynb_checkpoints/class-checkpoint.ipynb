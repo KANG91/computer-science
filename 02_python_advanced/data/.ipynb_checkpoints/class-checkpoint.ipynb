{
 "cells": [
  {
   "cell_type": "code",
   "execution_count": 45,
   "metadata": {
    "collapsed": true
   },
   "outputs": [],
   "source": [
    "# member + method = attribute(속성) 파이썬에서만 이렇게 부른다. \n",
    "class Person:\n",
    "    # member : 공통 속성 중에서 모두가 공유하는 몇가지의 데이터 결정\n",
    "    # 모델링 : 내가 프로그램에서 만드려고 하는 사람은 name, age, money 속성을 가진 것이다. \n",
    "    def __init__(self, name, age, money):\n",
    "        self.name = name \n",
    "        self.age = age\n",
    "        self.money = money\n",
    "        self.hp = 100\n",
    "    \n",
    "    # method (c에서는 멤버함수라고 부름 )\n",
    "    # 행동\n",
    "    def givemoney(self, other, money):\n",
    "        self.money -= money\n",
    "        other.money += money\n",
    "    \n",
    "    def under_stress(self, hp):\n",
    "        self.ht -= hp\n",
    "    \n",
    "    def showInfo(self):\n",
    "        print('name : {}\\n age : {}\\n'.format(self.name, self.money))\n",
    "\n",
    "    # member (클래스변수, 이것도 직접 접근해서 변경하면 안됨)\n",
    "    mom = 'hj'\n",
    "    \n",
    "    \n",
    "class CD:\n",
    "    def __init__(self, local, capacity):\n",
    "        self.local = local\n",
    "        self.capacity = capacity\n",
    "        \n",
    "    def givemoney(self, person, money):\n",
    "        self.capacity -= money\n",
    "        person.money += money\n",
    "        \n",
    "    def showInfo(self):\n",
    "        print('cd name: {}\\n capacity: {}'.format(self.local, self.capacity))"
   ]
  },
  {
   "cell_type": "code",
   "execution_count": 46,
   "metadata": {
    "collapsed": false
   },
   "outputs": [
    {
     "name": "stdout",
     "output_type": "stream",
     "text": [
      "cd name: 산본\n",
      " capacity: 1900000\n",
      "name : siwa\n",
      " age : 105000\n",
      "\n"
     ]
    }
   ],
   "source": [
    "# 인스턴스 만들기 \n",
    "# person1 은 객체이다, person1은 클래스 Person의 인스턴스이다.\n",
    "person1 = Person('siwa', 25, 5000)\n",
    "person2 = Person('matt', 30, 500)\n",
    "cd1 = CD('산본', 2000000)\n",
    "\n",
    "cd1.givemoney(person1, 100000)\n",
    "cd1.showInfo()\n",
    "person1.showInfo()"
   ]
  },
  {
   "cell_type": "code",
   "execution_count": 42,
   "metadata": {
    "collapsed": false
   },
   "outputs": [],
   "source": [
    "# 인스턴스 객체 간의 데이터 통신 interaction between instances = message passing\n",
    "# 반드시 함수만을 통해서 데이터를 통신 변경해야한다.  \n",
    "# 아래와 같은건 절대로 하면 안됨 (oop 위반!) : 다른 언어의 경우 정보은닉을 통해서 객체의 money라는 멤버속정의 정보에 아래와 같이 접근을 못하게 함 \n",
    "\n",
    "# person1.name = '바꿀이름' > 이런 식으로 하지 말고 method를 만들어서 변경해야한다! \n",
    "# person1.money -= 200\n",
    "# person1.showInfo() "
   ]
  },
  {
   "cell_type": "code",
   "execution_count": 43,
   "metadata": {
    "collapsed": true
   },
   "outputs": [],
   "source": [
    "person1.givemoney(person2, 2000)"
   ]
  },
  {
   "cell_type": "code",
   "execution_count": 44,
   "metadata": {
    "collapsed": false
   },
   "outputs": [
    {
     "name": "stdout",
     "output_type": "stream",
     "text": [
      "name : siwa\n",
      " age : 103000\n",
      "\n",
      "name : matt\n",
      " age : 2500\n",
      "\n"
     ]
    }
   ],
   "source": [
    "person1.showInfo()\n",
    "person2.showInfo()"
   ]
  },
  {
   "cell_type": "code",
   "execution_count": 49,
   "metadata": {
    "collapsed": false
   },
   "outputs": [
    {
     "data": {
      "text/plain": [
       "'aa'"
      ]
     },
     "execution_count": 49,
     "metadata": {},
     "output_type": "execute_result"
    }
   ],
   "source": [
    "person1.mom = 'aa'\n",
    "person1.mom"
   ]
  },
  {
   "cell_type": "code",
   "execution_count": null,
   "metadata": {
    "collapsed": true
   },
   "outputs": [],
   "source": []
  },
  {
   "cell_type": "code",
   "execution_count": null,
   "metadata": {
    "collapsed": true
   },
   "outputs": [],
   "source": []
  }
 ],
 "metadata": {
  "kernelspec": {
   "display_name": "Python 3",
   "language": "python",
   "name": "python3"
  },
  "language_info": {
   "codemirror_mode": {
    "name": "ipython",
    "version": 3
   },
   "file_extension": ".py",
   "mimetype": "text/x-python",
   "name": "python",
   "nbconvert_exporter": "python",
   "pygments_lexer": "ipython3",
   "version": "3.6.0"
  }
 },
 "nbformat": 4,
 "nbformat_minor": 2
}
