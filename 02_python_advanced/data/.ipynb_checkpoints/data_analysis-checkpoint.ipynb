{
 "cells": [
  {
   "cell_type": "code",
   "execution_count": 1,
   "metadata": {
    "collapsed": true
   },
   "outputs": [],
   "source": [
    "# 절차지향 프로그래밍 방식으로 작성\n",
    "'''\n",
    "평균 구하는 식 \n",
    "'''"
   ]
  },
  {
   "cell_type": "code",
   "execution_count": 5,
   "metadata": {
    "collapsed": false
   },
   "outputs": [],
   "source": [
    "from functools import reduce \n",
    "import math  # sqrt\n",
    "import pickle \n",
    "\n",
    "def average(scores): # scores = [95, 25, 46, 25 ...]\n",
    "    # reduce 로 평균 구하기 \n",
    "    return reduce(lambda a, b: a + b, scores) / len(scores)\n",
    "\n",
    "\n",
    "def variance(scores, avrg):\n",
    "    # scores = [95, 25, 46, 25 ...], avrg = 50\n",
    "    # 분산 = sum((각 점수 - 평균) ** 2)) / 데이터의 갯수\n",
    "    return reduce(lambda a, b: a + b, map(lambda s:(s-avrg) **2, scores)) / len(scores)\n",
    "\n",
    "def evaluateClass(avrg, std_dev):\n",
    "    if avrg <50 and std_dev >20:\n",
    "        print(\"성적이 너무 저조하고 학생들의 실력 차이가 너무 크다.\")\n",
    "    elif avrg > 50 and std_dev >20:\n",
    "        print(\"성적은 평균이상이지만 학생들 실력 차이가 크다. 주의 요망!\")\n",
    "    elif avrg < 50 and std_dev <20:\n",
    "        print(\"학생들간 실력차는 나지 않으나 성적이 너무 저조하다. 주의 요망!\")\n",
    "    elif avrg > 50 and std_dev <20:\n",
    "        print(\"성적도 평균 이상이고 학생들의 실력차도 크지 않다.\")\n"
   ]
  },
  {
   "cell_type": "code",
   "execution_count": 9,
   "metadata": {
    "collapsed": false
   },
   "outputs": [],
   "source": [
    "f = open('class_A.bin', 'rb') #read binary\n",
    "pickle.load??"
   ]
  },
  {
   "cell_type": "code",
   "execution_count": 10,
   "metadata": {
    "collapsed": false
   },
   "outputs": [
    {
     "name": "stdout",
     "output_type": "stream",
     "text": [
      "[{'greg': 95}, {'john': 25}, {'yang': 50}, {'timothy': 15}, {'melisa': 100}, {'thor': 10}, {'elen': 25}, {'mark': 80}, {'steve': 95}, {'anna': 20}]\n"
     ]
    }
   ],
   "source": [
    "items = []\n",
    "while 1:\n",
    "    try:\n",
    "        data = pickle.load(f)\n",
    "    except EOFError:\n",
    "        break\n",
    "    items.append(data)\n",
    "    \n",
    "print(items)"
   ]
  },
  {
   "cell_type": "code",
   "execution_count": 55,
   "metadata": {
    "collapsed": false
   },
   "outputs": [
    {
     "data": {
      "text/plain": [
       "[95, 25, 50, 15, 100, 10, 25, 80, 95, 20]"
      ]
     },
     "execution_count": 55,
     "metadata": {},
     "output_type": "execute_result"
    }
   ],
   "source": [
    "# 점수 값만 빼서 리스트로 만들기 (가장 기본적인 데이터 핸들링 방식 중 하나)\n",
    "\n",
    "scores = []\n",
    "for item in items:\n",
    "    for value in item.values():\n",
    "        scores.append(value)\n",
    "\n",
    "scores"
   ]
  },
  {
   "cell_type": "code",
   "execution_count": 56,
   "metadata": {
    "collapsed": false
   },
   "outputs": [
    {
     "data": {
      "text/plain": [
       "{'one': 1, 'three': 3, 'two': 2}"
      ]
     },
     "execution_count": 56,
     "metadata": {},
     "output_type": "execute_result"
    }
   ],
   "source": [
    "dic = dict(one = 1, two = 2, three=3)\n",
    "dic"
   ]
  },
  {
   "cell_type": "code",
   "execution_count": 57,
   "metadata": {
    "collapsed": false
   },
   "outputs": [
    {
     "name": "stdout",
     "output_type": "stream",
     "text": [
      "1\n",
      "2\n",
      "3\n"
     ]
    }
   ],
   "source": [
    "# 다큐먼트 명시 (.items()는 튜플을 리턴한다.)\n",
    "for key, value in dic.items():\n",
    "    print(value)"
   ]
  },
  {
   "cell_type": "code",
   "execution_count": 58,
   "metadata": {
    "collapsed": false
   },
   "outputs": [
    {
     "name": "stdout",
     "output_type": "stream",
     "text": [
      "[1, 2, 3]\n",
      "4\n",
      "5\n"
     ]
    }
   ],
   "source": [
    "# 언패킹과 패킹\n",
    "tu = (1,2,3,4,5)\n",
    "*a, b, c = tu\n",
    "print(a)\n",
    "print(b)\n",
    "print(c)"
   ]
  },
  {
   "cell_type": "code",
   "execution_count": 59,
   "metadata": {
    "collapsed": false
   },
   "outputs": [
    {
     "data": {
      "text/plain": [
       "[95, 25, 50, 15, 100, 10, 25, 80, 95, 20]"
      ]
     },
     "execution_count": 59,
     "metadata": {},
     "output_type": "execute_result"
    }
   ],
   "source": [
    "scores"
   ]
  },
  {
   "cell_type": "code",
   "execution_count": 60,
   "metadata": {
    "collapsed": false
   },
   "outputs": [
    {
     "data": {
      "text/plain": [
       "51.5"
      ]
     },
     "execution_count": 60,
     "metadata": {},
     "output_type": "execute_result"
    }
   ],
   "source": [
    "avrg = average(scores)\n",
    "avrg"
   ]
  },
  {
   "cell_type": "code",
   "execution_count": 63,
   "metadata": {
    "collapsed": false
   },
   "outputs": [
    {
     "data": {
      "text/plain": [
       "1240.2"
      ]
     },
     "execution_count": 63,
     "metadata": {},
     "output_type": "execute_result"
    }
   ],
   "source": [
    "vari = round(variance(scores, avrg), 1)\n",
    "vari"
   ]
  },
  {
   "cell_type": "code",
   "execution_count": 66,
   "metadata": {
    "collapsed": false
   },
   "outputs": [
    {
     "data": {
      "text/plain": [
       "35.2"
      ]
     },
     "execution_count": 66,
     "metadata": {},
     "output_type": "execute_result"
    }
   ],
   "source": [
    "#스퀘어루트 : 제곱근 구하기 \n",
    "std_dev = round(math.sqrt(vari), 1)\n",
    "std_dev"
   ]
  },
  {
   "cell_type": "code",
   "execution_count": 69,
   "metadata": {
    "collapsed": false
   },
   "outputs": [
    {
     "name": "stdout",
     "output_type": "stream",
     "text": [
      "\n",
      "\n",
      "**************************************************\n",
      "A반 성적 분석 결과\n",
      "**************************************************\n",
      "A반의 평균은 51.5점이고 분산은 1240.2이며, 따라서 표준편차는 35.2이다\n",
      "**************************************************\n",
      "A반 종합 평가\n",
      "**************************************************\n",
      "\n",
      "\n"
     ]
    }
   ],
   "source": [
    "print(\"\\n\")\n",
    "\n",
    "print('*' * 50)\n",
    "print(\"A반 성적 분석 결과\")\n",
    "print('*' * 50)\n",
    "print(\"A반의 평균은 {0}점이고 분산은 {1}이며, 따라서 표준편차는 {2}이다\".format(avrg, vari, std_dev))\n",
    "print('*' * 50)\n",
    "print(\"A반 종합 평가\")\n",
    "print('*' * 50)\n",
    "\n",
    "print('\\n')"
   ]
  },
  {
   "cell_type": "code",
   "execution_count": 75,
   "metadata": {
    "collapsed": false
   },
   "outputs": [
    {
     "name": "stdout",
     "output_type": "stream",
     "text": [
      "내 이름은 siwa이고, 나이는18인데 그 나이는 18은 거짓말이야\n",
      "18         siwa\n"
     ]
    }
   ],
   "source": [
    "# 문자열 포매팅 연습\n",
    "name = 'siwa'\n",
    "age = 18\n",
    "print(\"내 이름은 {n}이고, 나이는{a}인데 그 나이는 {a}은 거짓말이야\".format(n=name, a=age))\n",
    "print(age, end= '         ')\n",
    "print(name)"
   ]
  },
  {
   "cell_type": "code",
   "execution_count": 77,
   "metadata": {
    "collapsed": false
   },
   "outputs": [
    {
     "name": "stdout",
     "output_type": "stream",
     "text": [
      "성적은 평균이상이지만 학생들 실력 차이가 크다. 주의 요망!\n"
     ]
    }
   ],
   "source": [
    "evaluateClass(avrg, std_dev)"
   ]
  },
  {
   "cell_type": "code",
   "execution_count": null,
   "metadata": {
    "collapsed": true
   },
   "outputs": [],
   "source": []
  }
 ],
 "metadata": {
  "kernelspec": {
   "display_name": "Python 3",
   "language": "python",
   "name": "python3"
  },
  "language_info": {
   "codemirror_mode": {
    "name": "ipython",
    "version": 3
   },
   "file_extension": ".py",
   "mimetype": "text/x-python",
   "name": "python",
   "nbconvert_exporter": "python",
   "pygments_lexer": "ipython3",
   "version": "3.6.0"
  }
 },
 "nbformat": 4,
 "nbformat_minor": 2
}
