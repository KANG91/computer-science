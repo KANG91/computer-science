{
 "cells": [
  {
   "cell_type": "code",
   "execution_count": 6,
   "metadata": {
    "collapsed": false,
    "deletable": true,
    "editable": true
   },
   "outputs": [
    {
     "name": "stdout",
     "output_type": "stream",
     "text": [
      "95.0\n",
      "16.666666666666668\n"
     ]
    }
   ],
   "source": [
    "from functools import reduce\n",
    "\n",
    "\n",
    "class Evaluate:\n",
    "    def average(self, scores):\n",
    "        return reduce(lambda a, b: a + b, scores)/len(scores)\n",
    "\n",
    "    def variance(self, scores, avrg):\n",
    "        return reduce(lambda a, b: a + b, map(lambda s:(s-avrg)**2, scores))/len(scores)\n",
    "\n",
    "# 테스트 코드를 꼭 작성\n",
    "if __name__ == '__main__':\n",
    "    e = Evaluate()  \n",
    "    li = [100, 95, 90]\n",
    "    result1 = e.average(li)\n",
    "    print(result1)\n",
    "    result2 = e.variance(li, result1)\n",
    "    print(result2)"
   ]
  },
  {
   "cell_type": "code",
   "execution_count": 1,
   "metadata": {
    "collapsed": true,
    "deletable": true,
    "editable": true
   },
   "outputs": [],
   "source": [
    "from functools import reduce"
   ]
  },
  {
   "cell_type": "code",
   "execution_count": 18,
   "metadata": {
    "collapsed": false
   },
   "outputs": [],
   "source": [
    "class Evaluate:\n",
    "    def average(self, scores):\n",
    "        return reduce(lambda a, b: a + b, scores) /len(scores)\n",
    "    \n",
    "    def variance(self, scores, avrg):\n",
    "        return reduce(lambda a, b: a + b, map(lambda s: (s-avrg) **2 , scores))/len(scores)\n",
    "    \n",
    "    "
   ]
  },
  {
   "cell_type": "code",
   "execution_count": 19,
   "metadata": {
    "collapsed": false
   },
   "outputs": [
    {
     "name": "stdout",
     "output_type": "stream",
     "text": [
      "95.0\n",
      "16.666666666666668\n"
     ]
    }
   ],
   "source": [
    "if __name__ == '__main__':\n",
    "    e = Evaluate()\n",
    "    li = [100, 95, 90]\n",
    "    result_average = e.average(li)\n",
    "    print(result_average)\n",
    "    result_var = e.variance(li, e.average(li))\n",
    "    print(result_var)"
   ]
  },
  {
   "cell_type": "code",
   "execution_count": null,
   "metadata": {
    "collapsed": true
   },
   "outputs": [],
   "source": []
  },
  {
   "cell_type": "code",
   "execution_count": null,
   "metadata": {
    "collapsed": true
   },
   "outputs": [],
   "source": []
  }
 ],
 "metadata": {
  "kernelspec": {
   "display_name": "Python 3",
   "language": "python",
   "name": "python3"
  },
  "language_info": {
   "codemirror_mode": {
    "name": "ipython",
    "version": 3
   },
   "file_extension": ".py",
   "mimetype": "text/x-python",
   "name": "python",
   "nbconvert_exporter": "python",
   "pygments_lexer": "ipython3",
   "version": "3.6.0"
  }
 },
 "nbformat": 4,
 "nbformat_minor": 2
}
