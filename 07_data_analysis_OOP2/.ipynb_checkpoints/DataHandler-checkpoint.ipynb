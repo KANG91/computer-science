{
 "cells": [
  {
   "cell_type": "code",
   "execution_count": 85,
   "metadata": {
    "collapsed": false,
    "deletable": true,
    "editable": true
   },
   "outputs": [],
   "source": [
    "from evaluate import Evaluate\n",
    "from functools import reduce\n",
    "import pickle\n",
    "import math\n",
    "\n",
    "# 이런 류의 클래스에는 Handler, Manager, Controlloer 라는 말을 자주 사용한다. \n",
    "class DataHandler:\n",
    "    evaluator = Evaluate() # 클래스 변수 : 클래스의 모든 인스턴스들이 공유하는 변수 (연산기)\n",
    "                           # 객체합성 (선생님의 캡슐화 범위, 상속을 받지 않고 객체합성을 한다.)\n",
    "        \n",
    "    \n",
    "    # class method : 전역함수처럼 사용\n",
    "    @classmethod # 인스턴스 메소드로 정의해도 문제는 없다\n",
    "    def GetRawdataInDic(cls, filename):\n",
    "        rawdata = {}\n",
    "        with open(filename, 'rb') as f:\n",
    "            while 1:\n",
    "                try:\n",
    "                    data = pickle.load(f)\n",
    "                except EOFError:\n",
    "                    break\n",
    "                rawdata.update(data)\n",
    "                \n",
    "        return rawdata\n",
    "    \n",
    "    def __init__(self, filename, clsname):\n",
    "        self.rawdata = DataHandler.GetRawdataInDic(filename)\n",
    "        self.clsname = clsname\n",
    "        self.cache = {}         # 연산한 값을 저장해 두는 저장소 \n",
    "                                #(필요할 때 연산하되 이미 연산된 값이면 연산 없이 저장된 값을 반환)\n",
    "    \n",
    "    def get_scores(self): # cache기법 사용\n",
    "        if 'scores' not in self.cache:\n",
    "            self.cache['scores'] = list(self.rawdata.values())\n",
    "        \n",
    "        return self.cache.get('scores')\n",
    "    \n",
    "    def get_average(self): # cache 사용\n",
    "        if 'average' not in self.cache:\n",
    "            self.cache['average'] = self.evaluator.average(self.get_scores())\n",
    "\n",
    "        return self.cache.get('average')\n",
    "    \n",
    "    def get_variance(self): # cache 사용\n",
    "        if 'variance' not in self.cache:\n",
    "            vari = round(self.evaluator.variance(self.get_scores(), self.get_average()), 1)\n",
    "            self.cache['variance'] = vari\n",
    "            \n",
    "        return self.cache.get('variance')\n",
    "    \n",
    "    def get_standard_deviation(self):\n",
    "        if 'standard_deviation' not in self.cache:\n",
    "            std_dev = round(math.sqrt(self.get_variance()), 1) \n",
    "            self.cache['standard_deviation'] = std_dev\n",
    "        \n",
    "        return self.cache.get('standard_deviation')\n",
    "    \n",
    "    def GetEvaluation(self):\n",
    "        print('*' * 50)\n",
    "        print(\"%s 반 성적 분석 결과\" % self.clsname)\n",
    "        print(\"{0}반의 평균은 {1}점이고 분산은 {2}이며,따라서 표준편차는{3}이다\".\\\n",
    "              format(self.clsname, self.get_average(), self.get_variance()\\\n",
    "                     , self.get_standard_deviation()))\n",
    "        print('*' * 50)\n",
    "        print(\"%s 반 종합 평가\" % self.clsname)\n",
    "        print('*' * 50)\n",
    "        self.evaluateClass()\n",
    "\n",
    "    def evaluateClass(self):\n",
    "        avrg = self.get_average()\n",
    "        std_dev = self.get_standard_deviation()\n",
    "        \n",
    "        if avrg <50 and std_dev >20:\n",
    "            print(\"성적이 너무 저조하고 학생들의 실력 차이가 너무 크다.\")\n",
    "        elif avrg > 50 and std_dev >20:\n",
    "            print(\"성적은 평균이상이지만 학생들 실력 차이가 크다. 주의 요망!\")\n",
    "        elif avrg < 50 and std_dev <20:\n",
    "            print(\"학생들간 실력차는 나지 않으나 성적이 너무 저조하다. 주의 요망!\")\n",
    "        elif avrg > 50 and std_dev <20:\n",
    "            print(\"성적도 평균 이상이고 학생들의 실력차도 크지 않다.\")\n",
    "\n",
    "    \n",
    "#     def who_is_highest(self):\n",
    "#         h_score= max(list(self.rawdata.values()))\n",
    "#         for k, v in self.rawdata.items():\n",
    "#             if v == h_score:\n",
    "#                 return k\n",
    "#     def get_highest_score(self):\n",
    "#         return max(list(self.rawdata.values()))\n",
    "\n",
    "\n",
    "# 선생님 코드\n",
    "    def who_ist_highest(self):\n",
    "        if 'highest' not in self.cache:\n",
    "            self.cache['highest'] = reduce(lambda a, b: a if self.rawdata.get(a) > self.rawdata.get(b) else b, self.rawdata.keys())\n",
    "        return self.cache.get('highest')\n",
    "    \n",
    "    def get_highest_score(self):\n",
    "        return self.rawdata[self.who_ist_highest()]\n",
    "    \n",
    "    def who_is_lowest(self):\n",
    "        if 'lowest' not in self.cache:\n",
    "            self.cache['lowest'] = reduce(lambda a, b: a if self.rawdata.get(a) < self.rawdata.get(b) else b, self.rawdata.keys())\n",
    "        return self.cache.get('lowest')\n",
    "    \n",
    "    def get_lowest_score(self):\n",
    "        return self.rawdata[self.who_is_lowest()]"
   ]
  },
  {
   "cell_type": "code",
   "execution_count": 86,
   "metadata": {
    "collapsed": false,
    "deletable": true,
    "editable": true
   },
   "outputs": [
    {
     "data": {
      "text/plain": [
       "{'anna': 20,\n",
       " 'elen': 25,\n",
       " 'greg': 95,\n",
       " 'john': 25,\n",
       " 'mark': 80,\n",
       " 'melisa': 100,\n",
       " 'steve': 95,\n",
       " 'thor': 10,\n",
       " 'timothy': 15,\n",
       " 'yang': 50}"
      ]
     },
     "execution_count": 86,
     "metadata": {},
     "output_type": "execute_result"
    }
   ],
   "source": [
    "data1 = DataHandler('class_A.bin', '3-1')\n",
    "data1.rawdata"
   ]
  },
  {
   "cell_type": "code",
   "execution_count": 87,
   "metadata": {
    "collapsed": false,
    "deletable": true,
    "editable": true
   },
   "outputs": [
    {
     "name": "stdout",
     "output_type": "stream",
     "text": [
      "melisa\n",
      "100\n"
     ]
    }
   ],
   "source": [
    "print(data1.who_ist_highest())\n",
    "print(data1.get_highest_score())"
   ]
  },
  {
   "cell_type": "code",
   "execution_count": 88,
   "metadata": {
    "collapsed": false,
    "deletable": true,
    "editable": true
   },
   "outputs": [
    {
     "name": "stdout",
     "output_type": "stream",
     "text": [
      "thor\n",
      "10\n"
     ]
    }
   ],
   "source": [
    "print(data1.who_is_lowest())\n",
    "print(data1.get_lowest_score())"
   ]
  },
  {
   "cell_type": "code",
   "execution_count": 89,
   "metadata": {
    "collapsed": false,
    "deletable": true,
    "editable": true
   },
   "outputs": [
    {
     "name": "stdout",
     "output_type": "stream",
     "text": [
      "성적은 평균이상이지만 학생들 실력 차이가 크다. 주의 요망!\n"
     ]
    }
   ],
   "source": [
    "data1.evaluateClass()"
   ]
  },
  {
   "cell_type": "code",
   "execution_count": null,
   "metadata": {
    "collapsed": true,
    "deletable": true,
    "editable": true
   },
   "outputs": [],
   "source": []
  },
  {
   "cell_type": "code",
   "execution_count": null,
   "metadata": {
    "collapsed": true,
    "deletable": true,
    "editable": true
   },
   "outputs": [],
   "source": []
  }
 ],
 "metadata": {
  "kernelspec": {
   "display_name": "Python 3",
   "language": "python",
   "name": "python3"
  },
  "language_info": {
   "codemirror_mode": {
    "name": "ipython",
    "version": 3
   },
   "file_extension": ".py",
   "mimetype": "text/x-python",
   "name": "python",
   "nbconvert_exporter": "python",
   "pygments_lexer": "ipython3",
   "version": "3.6.0"
  }
 },
 "nbformat": 4,
 "nbformat_minor": 2
}
