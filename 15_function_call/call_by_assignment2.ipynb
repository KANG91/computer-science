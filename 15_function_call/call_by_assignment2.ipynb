{
 "cells": [
  {
   "cell_type": "code",
   "execution_count": 1,
   "metadata": {
    "collapsed": false
   },
   "outputs": [
    {
     "name": "stdout",
     "output_type": "stream",
     "text": [
      "4335493584 4335493904\n",
      "4335493584 4335493904 in func1\n"
     ]
    }
   ],
   "source": [
    "def func1(x, y):\n",
    "    print(id(x), id(y), 'in func1')\n",
    "\n",
    "    \n",
    "a = 10\n",
    "b = 20\n",
    "\n",
    "print(id(a), id(b))\n",
    "\n",
    "func1(a, b)"
   ]
  },
  {
   "cell_type": "code",
   "execution_count": 3,
   "metadata": {
    "collapsed": false
   },
   "outputs": [
    {
     "name": "stdout",
     "output_type": "stream",
     "text": [
      "4335493584 4335493904\n",
      "4335493488 4335493616 in func1\n",
      "10 20\n"
     ]
    }
   ],
   "source": [
    "def func1(x, y):\n",
    "    x = 7\n",
    "    y = 11\n",
    "    print(id(x), id(y), 'in func1')\n",
    "    \n",
    "    \n",
    "a = 10\n",
    "b = 20\n",
    "\n",
    "print(id(a), id(b))\n",
    "\n",
    "func1(a, b)\n",
    "print(a, b)"
   ]
  },
  {
   "cell_type": "code",
   "execution_count": 4,
   "metadata": {
    "collapsed": true
   },
   "outputs": [],
   "source": [
    "class Base:\n",
    "    def __init__(self, a):\n",
    "        self.a = a\n",
    "        \n",
    "    def method(self, n):\n",
    "        self.a = n         "
   ]
  },
  {
   "cell_type": "code",
   "execution_count": 5,
   "metadata": {
    "collapsed": false
   },
   "outputs": [
    {
     "data": {
      "text/plain": [
       "1"
      ]
     },
     "execution_count": 5,
     "metadata": {},
     "output_type": "execute_result"
    }
   ],
   "source": [
    "b = Base(1)\n",
    "b.a"
   ]
  },
  {
   "cell_type": "code",
   "execution_count": 6,
   "metadata": {
    "collapsed": false
   },
   "outputs": [
    {
     "data": {
      "text/plain": [
       "3"
      ]
     },
     "execution_count": 6,
     "metadata": {},
     "output_type": "execute_result"
    }
   ],
   "source": [
    "b.method(3)\n",
    "b.a # 왜 바뀌지?! 상수객체인데\n",
    "# 객체는 심볼테이블 (독자적인 메모리 공간)을 갖는다. \n"
   ]
  },
  {
   "cell_type": "code",
   "execution_count": null,
   "metadata": {
    "collapsed": true
   },
   "outputs": [],
   "source": []
  }
 ],
 "metadata": {
  "kernelspec": {
   "display_name": "Python 3",
   "language": "python",
   "name": "python3"
  },
  "language_info": {
   "codemirror_mode": {
    "name": "ipython",
    "version": 3
   },
   "file_extension": ".py",
   "mimetype": "text/x-python",
   "name": "python",
   "nbconvert_exporter": "python",
   "pygments_lexer": "ipython3",
   "version": "3.6.0"
  }
 },
 "nbformat": 4,
 "nbformat_minor": 2
}
