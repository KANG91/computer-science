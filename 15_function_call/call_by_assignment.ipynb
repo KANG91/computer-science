{
 "cells": [
  {
   "cell_type": "code",
   "execution_count": 6,
   "metadata": {
    "collapsed": false,
    "deletable": true,
    "editable": true
   },
   "outputs": [
    {
     "name": "stdout",
     "output_type": "stream",
     "text": [
      "4378706384 4378706704\n",
      "4378706384 4378706704 in function\n"
     ]
    }
   ],
   "source": [
    "a = 10\n",
    "b = 20\n",
    "print(id(a), id(b))\n",
    "\n",
    "def func(a, b):\n",
    "    print(id(a), id(b), 'in function')\n",
    "\n",
    "func(a, b) # 같은 주소값을 가르킨다."
   ]
  },
  {
   "cell_type": "code",
   "execution_count": 7,
   "metadata": {
    "collapsed": false,
    "deletable": true,
    "editable": true
   },
   "outputs": [
    {
     "name": "stdout",
     "output_type": "stream",
     "text": [
      "4378706384 4378706704 in func2\n",
      "4378706384 4378706704 in func\n"
     ]
    }
   ],
   "source": [
    "def func(a, b):\n",
    "    print(id(a), id(b), 'in func')\n",
    "    \n",
    "def func2():\n",
    "    a = 10\n",
    "    b = 20\n",
    "    print(id(a), id(b), 'in func2' )\n",
    "    \n",
    "    func(a, b)\n",
    "\n",
    "func2() # 같은 주소값을 가르킨다."
   ]
  },
  {
   "cell_type": "code",
   "execution_count": 18,
   "metadata": {
    "collapsed": true,
    "deletable": true,
    "editable": true
   },
   "outputs": [],
   "source": [
    "####------------------------------------###\n",
    "## 상수객체는 immutable\n",
    "def func1(x, y):\n",
    "    print(id(x), id(y), 'in func1')"
   ]
  },
  {
   "cell_type": "code",
   "execution_count": 19,
   "metadata": {
    "collapsed": false,
    "deletable": true,
    "editable": true
   },
   "outputs": [
    {
     "name": "stdout",
     "output_type": "stream",
     "text": [
      "4378706384 4378706704 in global\n",
      "4378706384 4378706704 in func1\n"
     ]
    }
   ],
   "source": [
    "a = 10\n",
    "b = 20\n",
    "print(id(a), id(b), 'in global')\n",
    "\n",
    "func1(a, b)"
   ]
  },
  {
   "cell_type": "code",
   "execution_count": 84,
   "metadata": {
    "collapsed": false,
    "deletable": true,
    "editable": true
   },
   "outputs": [],
   "source": [
    "####------------------------------------###\n",
    "## 상수객체는 immutable\n",
    "def func1(x, y):\n",
    "    x = 7 \n",
    "    y = 11\n",
    "    print(id(x), id(y), 'in func1')"
   ]
  },
  {
   "cell_type": "code",
   "execution_count": 85,
   "metadata": {
    "collapsed": false,
    "deletable": true,
    "editable": true
   },
   "outputs": [
    {
     "name": "stdout",
     "output_type": "stream",
     "text": [
      "4378706384 4378706704 in global\n",
      "4378706288 4378706416 in func1\n"
     ]
    }
   ],
   "source": [
    "a = 10\n",
    "b = 20\n",
    "print(id(a), id(b), 'in global')\n",
    "\n",
    "func1(a, b)"
   ]
  },
  {
   "cell_type": "code",
   "execution_count": 86,
   "metadata": {
    "collapsed": false,
    "deletable": true,
    "editable": true
   },
   "outputs": [
    {
     "name": "stdout",
     "output_type": "stream",
     "text": [
      "10 20\n"
     ]
    }
   ],
   "source": [
    "print(a, b) # call by reference가 아니네?!"
   ]
  },
  {
   "cell_type": "code",
   "execution_count": 32,
   "metadata": {
    "collapsed": false,
    "deletable": true,
    "editable": true
   },
   "outputs": [
    {
     "name": "stdout",
     "output_type": "stream",
     "text": [
      "[1, 2, 15, 4]\n"
     ]
    }
   ],
   "source": [
    "####------------------------------------###\n",
    "# list, dic 객체는 mutable 객체\n",
    "def func2(x):\n",
    "    x[2] = 15 # 인덱스로 접근해서 변경\n",
    "    \n",
    "li = [1,2,3,4]\n",
    "\n",
    "func2(li)\n",
    "print(li)"
   ]
  },
  {
   "cell_type": "code",
   "execution_count": 33,
   "metadata": {
    "collapsed": false,
    "deletable": true,
    "editable": true
   },
   "outputs": [
    {
     "name": "stdout",
     "output_type": "stream",
     "text": [
      "[1, 2, 3, 4]\n"
     ]
    }
   ],
   "source": [
    "####------------------------------------###\n",
    "# list, dic 객체는 mutable 객체\n",
    "def func2(x):\n",
    "    x = [4,5,6,7] # 할당을 다시한것 \n",
    "    \n",
    "li = [1,2,3,4]\n",
    "\n",
    "func2(li)\n",
    "print(li) # 왜 안바뀌지?!"
   ]
  },
  {
   "cell_type": "code",
   "execution_count": 35,
   "metadata": {
    "collapsed": false,
    "deletable": true,
    "editable": true
   },
   "outputs": [
    {
     "data": {
      "text/plain": [
       "{'one': 1, 'three': 3, 'two': 2}"
      ]
     },
     "execution_count": 35,
     "metadata": {},
     "output_type": "execute_result"
    }
   ],
   "source": [
    "####------------------------------------###\n",
    "# list, dic 객체는 mutable 객체\n",
    "\n",
    "dic = dict(one = 1, two = 2, three = 3)\n",
    "dic"
   ]
  },
  {
   "cell_type": "code",
   "execution_count": 38,
   "metadata": {
    "collapsed": false,
    "deletable": true,
    "editable": true
   },
   "outputs": [
    {
     "data": {
      "text/plain": [
       "{'four': 4, 'one': 1, 'three': 3, 'two': 2}"
      ]
     },
     "execution_count": 38,
     "metadata": {},
     "output_type": "execute_result"
    }
   ],
   "source": [
    "def func4(d):\n",
    "    d['four'] = 4 # 업데이트\n",
    "\n",
    "func4(dic)\n",
    "dic"
   ]
  },
  {
   "cell_type": "code",
   "execution_count": 52,
   "metadata": {
    "collapsed": false,
    "deletable": true,
    "editable": true
   },
   "outputs": [
    {
     "data": {
      "text/plain": [
       "{'four': 4, 'one': 1, 'three': 3, 'two': 2}"
      ]
     },
     "execution_count": 52,
     "metadata": {},
     "output_type": "execute_result"
    }
   ],
   "source": [
    "def func5(d):\n",
    "    d = {'음료': '커피', '양식': '파스타'} # 새롭게 할당\n",
    "\n",
    "func4(dic)\n",
    "dic"
   ]
  },
  {
   "cell_type": "code",
   "execution_count": 53,
   "metadata": {
    "collapsed": true,
    "deletable": true,
    "editable": true
   },
   "outputs": [],
   "source": [
    "####------------------------------------###\n",
    "# 파이썬에서 call by reference 사용\n",
    "\n",
    "def change(a, b):\n",
    "    a, b = b, a\n",
    "    return a, b"
   ]
  },
  {
   "cell_type": "code",
   "execution_count": 59,
   "metadata": {
    "collapsed": false,
    "deletable": true,
    "editable": true
   },
   "outputs": [
    {
     "name": "stdout",
     "output_type": "stream",
     "text": [
      "11 7\n"
     ]
    }
   ],
   "source": [
    "a = 7\n",
    "b = 11\n",
    "a, b = change(a, b)\n",
    "print(a, b)"
   ]
  },
  {
   "cell_type": "code",
   "execution_count": null,
   "metadata": {
    "collapsed": true,
    "deletable": true,
    "editable": true
   },
   "outputs": [],
   "source": []
  },
  {
   "cell_type": "code",
   "execution_count": null,
   "metadata": {
    "collapsed": true,
    "deletable": true,
    "editable": true
   },
   "outputs": [],
   "source": []
  }
 ],
 "metadata": {
  "kernelspec": {
   "display_name": "Python 3",
   "language": "python",
   "name": "python3"
  },
  "language_info": {
   "codemirror_mode": {
    "name": "ipython",
    "version": 3
   },
   "file_extension": ".py",
   "mimetype": "text/x-python",
   "name": "python",
   "nbconvert_exporter": "python",
   "pygments_lexer": "ipython3",
   "version": "3.6.0"
  }
 },
 "nbformat": 4,
 "nbformat_minor": 2
}
