{
 "cells": [
  {
   "cell_type": "code",
   "execution_count": 2,
   "metadata": {
    "collapsed": true,
    "deletable": true,
    "editable": true
   },
   "outputs": [],
   "source": [
    "def hanoi(n, _from, _by, _to):\n",
    "    if n == 1:\n",
    "        print(\"{}에서 {}로 {}번째 쟁반 이동\".format(_from, _to, n))\n",
    "        return \n",
    "    \n",
    "    hanoi(n-1, _from, _to, _by)\n",
    "    print(\"{}에서 {}로 {}번째 쟁반 이동\".format(_from, _to, n))\n",
    "    hanoi(n-1, _by, _from, _to)\n",
    "    "
   ]
  },
  {
   "cell_type": "code",
   "execution_count": 4,
   "metadata": {
    "collapsed": false,
    "deletable": true,
    "editable": true
   },
   "outputs": [
    {
     "name": "stdout",
     "output_type": "stream",
     "text": [
      "A에서 C로 1번째 쟁반 이동\n",
      "A에서 B로 2번째 쟁반 이동\n",
      "C에서 B로 1번째 쟁반 이동\n",
      "A에서 C로 3번째 쟁반 이동\n",
      "B에서 A로 1번째 쟁반 이동\n",
      "B에서 C로 2번째 쟁반 이동\n",
      "A에서 C로 1번째 쟁반 이동\n",
      "A에서 B로 4번째 쟁반 이동\n",
      "C에서 B로 1번째 쟁반 이동\n",
      "C에서 A로 2번째 쟁반 이동\n",
      "B에서 A로 1번째 쟁반 이동\n",
      "C에서 B로 3번째 쟁반 이동\n",
      "A에서 C로 1번째 쟁반 이동\n",
      "A에서 B로 2번째 쟁반 이동\n",
      "C에서 B로 1번째 쟁반 이동\n",
      "A에서 C로 5번째 쟁반 이동\n",
      "B에서 A로 1번째 쟁반 이동\n",
      "B에서 C로 2번째 쟁반 이동\n",
      "A에서 C로 1번째 쟁반 이동\n",
      "B에서 A로 3번째 쟁반 이동\n",
      "C에서 B로 1번째 쟁반 이동\n",
      "C에서 A로 2번째 쟁반 이동\n",
      "B에서 A로 1번째 쟁반 이동\n",
      "B에서 C로 4번째 쟁반 이동\n",
      "A에서 C로 1번째 쟁반 이동\n",
      "A에서 B로 2번째 쟁반 이동\n",
      "C에서 B로 1번째 쟁반 이동\n",
      "A에서 C로 3번째 쟁반 이동\n",
      "B에서 A로 1번째 쟁반 이동\n",
      "B에서 C로 2번째 쟁반 이동\n",
      "A에서 C로 1번째 쟁반 이동\n"
     ]
    }
   ],
   "source": [
    "hanoi(5, \"A\", \"B\", \"C\")"
   ]
  },
  {
   "cell_type": "code",
   "execution_count": null,
   "metadata": {
    "collapsed": true,
    "deletable": true,
    "editable": true
   },
   "outputs": [],
   "source": []
  }
 ],
 "metadata": {
  "kernelspec": {
   "display_name": "Python 3",
   "language": "python",
   "name": "python3"
  },
  "language_info": {
   "codemirror_mode": {
    "name": "ipython",
    "version": 3
   },
   "file_extension": ".py",
   "mimetype": "text/x-python",
   "name": "python",
   "nbconvert_exporter": "python",
   "pygments_lexer": "ipython3",
   "version": "3.6.0"
  }
 },
 "nbformat": 4,
 "nbformat_minor": 2
}
