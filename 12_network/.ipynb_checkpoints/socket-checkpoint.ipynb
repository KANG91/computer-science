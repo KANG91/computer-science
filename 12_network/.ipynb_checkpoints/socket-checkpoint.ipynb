{
 "cells": [
  {
   "cell_type": "code",
   "execution_count": 4,
   "metadata": {
    "collapsed": false
   },
   "outputs": [
    {
     "name": "stdout",
     "output_type": "stream",
     "text": [
      "socket created\n",
      "Enter host: localhost\n",
      "Enter post: 4000\n",
      "socket connected!\n"
     ]
    }
   ],
   "source": [
    "import socket\n",
    "import sys\n",
    "\n",
    "if __name__=='__main__':\n",
    "    # try to create socket\n",
    "    try:\n",
    "        sock = socket.socket(socket.AF_INET, socket.SOCK_STREAM)\n",
    "    except socket.error as e:\n",
    "        print('Failed')\n",
    "        print('reason:{}'.format(str(e)))\n",
    "        sys.exit(); # 강제로 스크립트 종료\n",
    "\n",
    "    print('socket created')\n",
    "\n",
    "    # get host, port from user\n",
    "    host = input('Enter host: ')\n",
    "    port = input('Enter post: ')\n",
    "\n",
    "    #try to connect to host, port and shutdown socket\n",
    "    try:\n",
    "        sock.connect((host, int(port)))\n",
    "        print('socket connected!')\n",
    "        sock.shutdown(2)\n",
    "    except socket.error as err:\n",
    "        print('Failed..')\n",
    "        print('Reason: ', str(err))\n",
    "        sys.exit();"
   ]
  },
  {
   "cell_type": "code",
   "execution_count": null,
   "metadata": {
    "collapsed": true
   },
   "outputs": [],
   "source": []
  }
 ],
 "metadata": {
  "kernelspec": {
   "display_name": "Python 3",
   "language": "python",
   "name": "python3"
  },
  "language_info": {
   "codemirror_mode": {
    "name": "ipython",
    "version": 3
   },
   "file_extension": ".py",
   "mimetype": "text/x-python",
   "name": "python",
   "nbconvert_exporter": "python",
   "pygments_lexer": "ipython3",
   "version": "3.6.0"
  }
 },
 "nbformat": 4,
 "nbformat_minor": 2
}
