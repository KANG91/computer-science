{
 "cells": [
  {
   "cell_type": "markdown",
   "metadata": {},
   "source": [
    "# 스크랩핑 연습\n",
    "목표 :https://www.rottentomatoes.com 사이트 메인화면의 Top Box Office에 해당하는 영화 제목과 링크 리스트를 가져온다."
   ]
  },
  {
   "cell_type": "code",
   "execution_count": 30,
   "metadata": {
    "collapsed": false
   },
   "outputs": [
    {
     "name": "stdout",
     "output_type": "stream",
     "text": [
      "\n",
      "        The Fate of the Furious\n",
      "     https://www.rottentomatoes.com/m/the_fate_of_the_furious\n",
      "\n",
      "        The Boss Baby\n",
      "     https://www.rottentomatoes.com/m/the_boss_baby\n",
      "\n",
      "        Beauty and the Beast\n",
      "     https://www.rottentomatoes.com/m/beauty_and_the_beast_2017\n",
      "\n",
      "        Going in Style\n",
      "     https://www.rottentomatoes.com/m/going_in_style_2017\n",
      "\n",
      "        Smurfs: The Lost Village\n",
      "     https://www.rottentomatoes.com/m/smurfs_the_lost_village\n",
      "\n",
      "        Disneynature Born In China\n",
      "     https://www.rottentomatoes.com/m/disneynature_born_in_china\n",
      "\n",
      "        Unforgettable\n",
      "     https://www.rottentomatoes.com/m/unforgettable_2017\n",
      "\n",
      "        Gifted\n",
      "     https://www.rottentomatoes.com/m/gifted_2017\n",
      "\n",
      "        The Promise\n",
      "     https://www.rottentomatoes.com/m/the_promise_2017\n",
      "\n",
      "        The Lost City of Z\n",
      "     https://www.rottentomatoes.com/m/the_lost_city_of_z\n"
     ]
    }
   ],
   "source": [
    "from urllib.request import urlopen\n",
    "from bs4 import BeautifulSoup\n",
    "\n",
    "\n",
    "url = \"https://www.rottentomatoes.com/\"\n",
    "html = urlopen(url)\n",
    "source = html.read() # 바이트코드 type으로 소스를 읽는다. \n",
    "html.close() # urlopen을 진행한 후에는 close를 한다. \n",
    "\n",
    "soup = BeautifulSoup(source, \"html5lib\") \n",
    "table = soup.find(id=\"Top-Box-Office\")\n",
    "movies = table.find_all(class_=\"middle_col\")\n",
    "\n",
    "for movie in movies:\n",
    "    title = movie.get_text()\n",
    "    print(title, end=' ')\n",
    "    link = movie.a.get('href')\n",
    "    url = 'https://www.rottentomatoes.com' + link\n",
    "    print(url)\n"
   ]
  },
  {
   "cell_type": "code",
   "execution_count": null,
   "metadata": {
    "collapsed": true
   },
   "outputs": [],
   "source": []
  }
 ],
 "metadata": {
  "kernelspec": {
   "display_name": "Python 3",
   "language": "python",
   "name": "python3"
  },
  "language_info": {
   "codemirror_mode": {
    "name": "ipython",
    "version": 3
   },
   "file_extension": ".py",
   "mimetype": "text/x-python",
   "name": "python",
   "nbconvert_exporter": "python",
   "pygments_lexer": "ipython3",
   "version": "3.6.0"
  }
 },
 "nbformat": 4,
 "nbformat_minor": 2
}
