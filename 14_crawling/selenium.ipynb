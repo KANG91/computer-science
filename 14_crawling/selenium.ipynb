{
 "cells": [
  {
   "cell_type": "code",
   "execution_count": 10,
   "metadata": {
    "collapsed": false
   },
   "outputs": [
    {
     "name": "stdout",
     "output_type": "stream",
     "text": [
      "MacBook Pro - Apple (KR)\n",
      "MacBook Pro 구입하기 - Apple (KR)\n",
      "MacBook Pro 식별 방법 - Apple 지원\n",
      "Apple MacBook Pro - Best Buy\n",
      "MacBook Pro - Wikipedia\n",
      "MacBook Pro: Thinner Design With New OLED Touch Bar, Order Now\n",
      "Vertical MacBook Pro 2016 – Henge Docks\n",
      "New MacBook Pro - iStore\n",
      "Apple MacBooks: Pro, Air, Original Macbook | B&H\n",
      "Amazon.com: Apple MacBook Pro MF839LL/A 13.3-Inch Laptop with ...\n"
     ]
    }
   ],
   "source": [
    "import os\n",
    "from selenium import webdriver\n",
    "from selenium.webdriver.support.ui import WebDriverWait\n",
    "from selenium.webdriver.support import expected_conditions as EC\n",
    "from selenium.webdriver.common.by import By\n",
    "\n",
    "ff_driver = webdriver.Firefox() \n",
    "ff_driver.get(\"https://www.google.co.kr\")\n",
    "\n",
    "query = ff_driver.find_element_by_id(\"lst-ib\").send_keys(\"macbook pro\")\n",
    "ff_driver.find_element_by_name(\"btnK\").click()\n",
    "\n",
    "WebDriverWait(ff_driver, 10).until(EC.visibility_of_element_located((By.CSS_SELECTOR, \"h3.r\")))\n",
    "\n",
    "page_results = ff_driver.find_elements(By.CSS_SELECTOR, \"h3.r\")\n",
    "\n",
    "for item in page_results:\n",
    "    print(item.text)\n",
    "\n"
   ]
  },
  {
   "cell_type": "code",
   "execution_count": null,
   "metadata": {
    "collapsed": true
   },
   "outputs": [],
   "source": []
  }
 ],
 "metadata": {
  "kernelspec": {
   "display_name": "Python 3",
   "language": "python",
   "name": "python3"
  },
  "language_info": {
   "codemirror_mode": {
    "name": "ipython",
    "version": 3
   },
   "file_extension": ".py",
   "mimetype": "text/x-python",
   "name": "python",
   "nbconvert_exporter": "python",
   "pygments_lexer": "ipython3",
   "version": "3.6.0"
  }
 },
 "nbformat": 4,
 "nbformat_minor": 2
}
